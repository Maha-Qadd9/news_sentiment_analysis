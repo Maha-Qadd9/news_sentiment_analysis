{
  "nbformat": 4,
  "nbformat_minor": 0,
  "metadata": {
    "colab": {
      "provenance": []
    },
    "kernelspec": {
      "name": "python3",
      "display_name": "Python 3"
    },
    "language_info": {
      "name": "python"
    },
    "widgets": {
      "application/vnd.jupyter.widget-state+json": {
        "d1d0a5d73c4c4d57aee61db076b6bb6f": {
          "model_module": "@jupyter-widgets/controls",
          "model_name": "HBoxModel",
          "model_module_version": "1.5.0",
          "state": {
            "_dom_classes": [],
            "_model_module": "@jupyter-widgets/controls",
            "_model_module_version": "1.5.0",
            "_model_name": "HBoxModel",
            "_view_count": null,
            "_view_module": "@jupyter-widgets/controls",
            "_view_module_version": "1.5.0",
            "_view_name": "HBoxView",
            "box_style": "",
            "children": [
              "IPY_MODEL_fb4b1a5532b84e979e7e1c541d5dace8",
              "IPY_MODEL_b55e0436e7d5408096fdc7a623f71e4d",
              "IPY_MODEL_fdab36ab6fc14e1fba4e9b3ce12c7514"
            ],
            "layout": "IPY_MODEL_7014b02665184f52a7e486ad10d203c7"
          }
        },
        "fb4b1a5532b84e979e7e1c541d5dace8": {
          "model_module": "@jupyter-widgets/controls",
          "model_name": "HTMLModel",
          "model_module_version": "1.5.0",
          "state": {
            "_dom_classes": [],
            "_model_module": "@jupyter-widgets/controls",
            "_model_module_version": "1.5.0",
            "_model_name": "HTMLModel",
            "_view_count": null,
            "_view_module": "@jupyter-widgets/controls",
            "_view_module_version": "1.5.0",
            "_view_name": "HTMLView",
            "description": "",
            "description_tooltip": null,
            "layout": "IPY_MODEL_4b7919bc5d404917934512adc80b017f",
            "placeholder": "​",
            "style": "IPY_MODEL_8906fb46c89949e8a9dec843e83dce9f",
            "value": "config.json: 100%"
          }
        },
        "b55e0436e7d5408096fdc7a623f71e4d": {
          "model_module": "@jupyter-widgets/controls",
          "model_name": "FloatProgressModel",
          "model_module_version": "1.5.0",
          "state": {
            "_dom_classes": [],
            "_model_module": "@jupyter-widgets/controls",
            "_model_module_version": "1.5.0",
            "_model_name": "FloatProgressModel",
            "_view_count": null,
            "_view_module": "@jupyter-widgets/controls",
            "_view_module_version": "1.5.0",
            "_view_name": "ProgressView",
            "bar_style": "success",
            "description": "",
            "description_tooltip": null,
            "layout": "IPY_MODEL_6a1101f6b00b4722a04467bba22422e5",
            "max": 629,
            "min": 0,
            "orientation": "horizontal",
            "style": "IPY_MODEL_01ae15ef70ed40d2aed8ce6cb671f698",
            "value": 629
          }
        },
        "fdab36ab6fc14e1fba4e9b3ce12c7514": {
          "model_module": "@jupyter-widgets/controls",
          "model_name": "HTMLModel",
          "model_module_version": "1.5.0",
          "state": {
            "_dom_classes": [],
            "_model_module": "@jupyter-widgets/controls",
            "_model_module_version": "1.5.0",
            "_model_name": "HTMLModel",
            "_view_count": null,
            "_view_module": "@jupyter-widgets/controls",
            "_view_module_version": "1.5.0",
            "_view_name": "HTMLView",
            "description": "",
            "description_tooltip": null,
            "layout": "IPY_MODEL_c8ab826a8a424b9d9d2ccff34c2b4830",
            "placeholder": "​",
            "style": "IPY_MODEL_649ada37b6014f4dbb4c5043e7ab4b0a",
            "value": " 629/629 [00:00&lt;00:00, 14.6kB/s]"
          }
        },
        "7014b02665184f52a7e486ad10d203c7": {
          "model_module": "@jupyter-widgets/base",
          "model_name": "LayoutModel",
          "model_module_version": "1.2.0",
          "state": {
            "_model_module": "@jupyter-widgets/base",
            "_model_module_version": "1.2.0",
            "_model_name": "LayoutModel",
            "_view_count": null,
            "_view_module": "@jupyter-widgets/base",
            "_view_module_version": "1.2.0",
            "_view_name": "LayoutView",
            "align_content": null,
            "align_items": null,
            "align_self": null,
            "border": null,
            "bottom": null,
            "display": null,
            "flex": null,
            "flex_flow": null,
            "grid_area": null,
            "grid_auto_columns": null,
            "grid_auto_flow": null,
            "grid_auto_rows": null,
            "grid_column": null,
            "grid_gap": null,
            "grid_row": null,
            "grid_template_areas": null,
            "grid_template_columns": null,
            "grid_template_rows": null,
            "height": null,
            "justify_content": null,
            "justify_items": null,
            "left": null,
            "margin": null,
            "max_height": null,
            "max_width": null,
            "min_height": null,
            "min_width": null,
            "object_fit": null,
            "object_position": null,
            "order": null,
            "overflow": null,
            "overflow_x": null,
            "overflow_y": null,
            "padding": null,
            "right": null,
            "top": null,
            "visibility": null,
            "width": null
          }
        },
        "4b7919bc5d404917934512adc80b017f": {
          "model_module": "@jupyter-widgets/base",
          "model_name": "LayoutModel",
          "model_module_version": "1.2.0",
          "state": {
            "_model_module": "@jupyter-widgets/base",
            "_model_module_version": "1.2.0",
            "_model_name": "LayoutModel",
            "_view_count": null,
            "_view_module": "@jupyter-widgets/base",
            "_view_module_version": "1.2.0",
            "_view_name": "LayoutView",
            "align_content": null,
            "align_items": null,
            "align_self": null,
            "border": null,
            "bottom": null,
            "display": null,
            "flex": null,
            "flex_flow": null,
            "grid_area": null,
            "grid_auto_columns": null,
            "grid_auto_flow": null,
            "grid_auto_rows": null,
            "grid_column": null,
            "grid_gap": null,
            "grid_row": null,
            "grid_template_areas": null,
            "grid_template_columns": null,
            "grid_template_rows": null,
            "height": null,
            "justify_content": null,
            "justify_items": null,
            "left": null,
            "margin": null,
            "max_height": null,
            "max_width": null,
            "min_height": null,
            "min_width": null,
            "object_fit": null,
            "object_position": null,
            "order": null,
            "overflow": null,
            "overflow_x": null,
            "overflow_y": null,
            "padding": null,
            "right": null,
            "top": null,
            "visibility": null,
            "width": null
          }
        },
        "8906fb46c89949e8a9dec843e83dce9f": {
          "model_module": "@jupyter-widgets/controls",
          "model_name": "DescriptionStyleModel",
          "model_module_version": "1.5.0",
          "state": {
            "_model_module": "@jupyter-widgets/controls",
            "_model_module_version": "1.5.0",
            "_model_name": "DescriptionStyleModel",
            "_view_count": null,
            "_view_module": "@jupyter-widgets/base",
            "_view_module_version": "1.2.0",
            "_view_name": "StyleView",
            "description_width": ""
          }
        },
        "6a1101f6b00b4722a04467bba22422e5": {
          "model_module": "@jupyter-widgets/base",
          "model_name": "LayoutModel",
          "model_module_version": "1.2.0",
          "state": {
            "_model_module": "@jupyter-widgets/base",
            "_model_module_version": "1.2.0",
            "_model_name": "LayoutModel",
            "_view_count": null,
            "_view_module": "@jupyter-widgets/base",
            "_view_module_version": "1.2.0",
            "_view_name": "LayoutView",
            "align_content": null,
            "align_items": null,
            "align_self": null,
            "border": null,
            "bottom": null,
            "display": null,
            "flex": null,
            "flex_flow": null,
            "grid_area": null,
            "grid_auto_columns": null,
            "grid_auto_flow": null,
            "grid_auto_rows": null,
            "grid_column": null,
            "grid_gap": null,
            "grid_row": null,
            "grid_template_areas": null,
            "grid_template_columns": null,
            "grid_template_rows": null,
            "height": null,
            "justify_content": null,
            "justify_items": null,
            "left": null,
            "margin": null,
            "max_height": null,
            "max_width": null,
            "min_height": null,
            "min_width": null,
            "object_fit": null,
            "object_position": null,
            "order": null,
            "overflow": null,
            "overflow_x": null,
            "overflow_y": null,
            "padding": null,
            "right": null,
            "top": null,
            "visibility": null,
            "width": null
          }
        },
        "01ae15ef70ed40d2aed8ce6cb671f698": {
          "model_module": "@jupyter-widgets/controls",
          "model_name": "ProgressStyleModel",
          "model_module_version": "1.5.0",
          "state": {
            "_model_module": "@jupyter-widgets/controls",
            "_model_module_version": "1.5.0",
            "_model_name": "ProgressStyleModel",
            "_view_count": null,
            "_view_module": "@jupyter-widgets/base",
            "_view_module_version": "1.2.0",
            "_view_name": "StyleView",
            "bar_color": null,
            "description_width": ""
          }
        },
        "c8ab826a8a424b9d9d2ccff34c2b4830": {
          "model_module": "@jupyter-widgets/base",
          "model_name": "LayoutModel",
          "model_module_version": "1.2.0",
          "state": {
            "_model_module": "@jupyter-widgets/base",
            "_model_module_version": "1.2.0",
            "_model_name": "LayoutModel",
            "_view_count": null,
            "_view_module": "@jupyter-widgets/base",
            "_view_module_version": "1.2.0",
            "_view_name": "LayoutView",
            "align_content": null,
            "align_items": null,
            "align_self": null,
            "border": null,
            "bottom": null,
            "display": null,
            "flex": null,
            "flex_flow": null,
            "grid_area": null,
            "grid_auto_columns": null,
            "grid_auto_flow": null,
            "grid_auto_rows": null,
            "grid_column": null,
            "grid_gap": null,
            "grid_row": null,
            "grid_template_areas": null,
            "grid_template_columns": null,
            "grid_template_rows": null,
            "height": null,
            "justify_content": null,
            "justify_items": null,
            "left": null,
            "margin": null,
            "max_height": null,
            "max_width": null,
            "min_height": null,
            "min_width": null,
            "object_fit": null,
            "object_position": null,
            "order": null,
            "overflow": null,
            "overflow_x": null,
            "overflow_y": null,
            "padding": null,
            "right": null,
            "top": null,
            "visibility": null,
            "width": null
          }
        },
        "649ada37b6014f4dbb4c5043e7ab4b0a": {
          "model_module": "@jupyter-widgets/controls",
          "model_name": "DescriptionStyleModel",
          "model_module_version": "1.5.0",
          "state": {
            "_model_module": "@jupyter-widgets/controls",
            "_model_module_version": "1.5.0",
            "_model_name": "DescriptionStyleModel",
            "_view_count": null,
            "_view_module": "@jupyter-widgets/base",
            "_view_module_version": "1.2.0",
            "_view_name": "StyleView",
            "description_width": ""
          }
        },
        "772fc0d315764d96822516591f5bb908": {
          "model_module": "@jupyter-widgets/controls",
          "model_name": "HBoxModel",
          "model_module_version": "1.5.0",
          "state": {
            "_dom_classes": [],
            "_model_module": "@jupyter-widgets/controls",
            "_model_module_version": "1.5.0",
            "_model_name": "HBoxModel",
            "_view_count": null,
            "_view_module": "@jupyter-widgets/controls",
            "_view_module_version": "1.5.0",
            "_view_name": "HBoxView",
            "box_style": "",
            "children": [
              "IPY_MODEL_621aac44acc244dea481b67c83e5e490",
              "IPY_MODEL_ae657adc36cb4a4a8ca6daeb189b746f",
              "IPY_MODEL_720ed46b926c483cb0e344fb1a313bd8"
            ],
            "layout": "IPY_MODEL_07375b88086b4d778c1a3af8dc26ebd7"
          }
        },
        "621aac44acc244dea481b67c83e5e490": {
          "model_module": "@jupyter-widgets/controls",
          "model_name": "HTMLModel",
          "model_module_version": "1.5.0",
          "state": {
            "_dom_classes": [],
            "_model_module": "@jupyter-widgets/controls",
            "_model_module_version": "1.5.0",
            "_model_name": "HTMLModel",
            "_view_count": null,
            "_view_module": "@jupyter-widgets/controls",
            "_view_module_version": "1.5.0",
            "_view_name": "HTMLView",
            "description": "",
            "description_tooltip": null,
            "layout": "IPY_MODEL_5b94d623a2974c2ba12b170c1436f9d5",
            "placeholder": "​",
            "style": "IPY_MODEL_3688465f6ad44823949040f296f0cbfd",
            "value": "model.safetensors: 100%"
          }
        },
        "ae657adc36cb4a4a8ca6daeb189b746f": {
          "model_module": "@jupyter-widgets/controls",
          "model_name": "FloatProgressModel",
          "model_module_version": "1.5.0",
          "state": {
            "_dom_classes": [],
            "_model_module": "@jupyter-widgets/controls",
            "_model_module_version": "1.5.0",
            "_model_name": "FloatProgressModel",
            "_view_count": null,
            "_view_module": "@jupyter-widgets/controls",
            "_view_module_version": "1.5.0",
            "_view_name": "ProgressView",
            "bar_style": "success",
            "description": "",
            "description_tooltip": null,
            "layout": "IPY_MODEL_e959b19d4d09441eaa25e32700d5fa07",
            "max": 267832558,
            "min": 0,
            "orientation": "horizontal",
            "style": "IPY_MODEL_a4f7088694df464d8c27165bb17c8979",
            "value": 267832558
          }
        },
        "720ed46b926c483cb0e344fb1a313bd8": {
          "model_module": "@jupyter-widgets/controls",
          "model_name": "HTMLModel",
          "model_module_version": "1.5.0",
          "state": {
            "_dom_classes": [],
            "_model_module": "@jupyter-widgets/controls",
            "_model_module_version": "1.5.0",
            "_model_name": "HTMLModel",
            "_view_count": null,
            "_view_module": "@jupyter-widgets/controls",
            "_view_module_version": "1.5.0",
            "_view_name": "HTMLView",
            "description": "",
            "description_tooltip": null,
            "layout": "IPY_MODEL_cc47e34a0f4f4dbe82045288ed481626",
            "placeholder": "​",
            "style": "IPY_MODEL_8a31713d191d4646aafd620d95e724f6",
            "value": " 268M/268M [00:05&lt;00:00, 63.5MB/s]"
          }
        },
        "07375b88086b4d778c1a3af8dc26ebd7": {
          "model_module": "@jupyter-widgets/base",
          "model_name": "LayoutModel",
          "model_module_version": "1.2.0",
          "state": {
            "_model_module": "@jupyter-widgets/base",
            "_model_module_version": "1.2.0",
            "_model_name": "LayoutModel",
            "_view_count": null,
            "_view_module": "@jupyter-widgets/base",
            "_view_module_version": "1.2.0",
            "_view_name": "LayoutView",
            "align_content": null,
            "align_items": null,
            "align_self": null,
            "border": null,
            "bottom": null,
            "display": null,
            "flex": null,
            "flex_flow": null,
            "grid_area": null,
            "grid_auto_columns": null,
            "grid_auto_flow": null,
            "grid_auto_rows": null,
            "grid_column": null,
            "grid_gap": null,
            "grid_row": null,
            "grid_template_areas": null,
            "grid_template_columns": null,
            "grid_template_rows": null,
            "height": null,
            "justify_content": null,
            "justify_items": null,
            "left": null,
            "margin": null,
            "max_height": null,
            "max_width": null,
            "min_height": null,
            "min_width": null,
            "object_fit": null,
            "object_position": null,
            "order": null,
            "overflow": null,
            "overflow_x": null,
            "overflow_y": null,
            "padding": null,
            "right": null,
            "top": null,
            "visibility": null,
            "width": null
          }
        },
        "5b94d623a2974c2ba12b170c1436f9d5": {
          "model_module": "@jupyter-widgets/base",
          "model_name": "LayoutModel",
          "model_module_version": "1.2.0",
          "state": {
            "_model_module": "@jupyter-widgets/base",
            "_model_module_version": "1.2.0",
            "_model_name": "LayoutModel",
            "_view_count": null,
            "_view_module": "@jupyter-widgets/base",
            "_view_module_version": "1.2.0",
            "_view_name": "LayoutView",
            "align_content": null,
            "align_items": null,
            "align_self": null,
            "border": null,
            "bottom": null,
            "display": null,
            "flex": null,
            "flex_flow": null,
            "grid_area": null,
            "grid_auto_columns": null,
            "grid_auto_flow": null,
            "grid_auto_rows": null,
            "grid_column": null,
            "grid_gap": null,
            "grid_row": null,
            "grid_template_areas": null,
            "grid_template_columns": null,
            "grid_template_rows": null,
            "height": null,
            "justify_content": null,
            "justify_items": null,
            "left": null,
            "margin": null,
            "max_height": null,
            "max_width": null,
            "min_height": null,
            "min_width": null,
            "object_fit": null,
            "object_position": null,
            "order": null,
            "overflow": null,
            "overflow_x": null,
            "overflow_y": null,
            "padding": null,
            "right": null,
            "top": null,
            "visibility": null,
            "width": null
          }
        },
        "3688465f6ad44823949040f296f0cbfd": {
          "model_module": "@jupyter-widgets/controls",
          "model_name": "DescriptionStyleModel",
          "model_module_version": "1.5.0",
          "state": {
            "_model_module": "@jupyter-widgets/controls",
            "_model_module_version": "1.5.0",
            "_model_name": "DescriptionStyleModel",
            "_view_count": null,
            "_view_module": "@jupyter-widgets/base",
            "_view_module_version": "1.2.0",
            "_view_name": "StyleView",
            "description_width": ""
          }
        },
        "e959b19d4d09441eaa25e32700d5fa07": {
          "model_module": "@jupyter-widgets/base",
          "model_name": "LayoutModel",
          "model_module_version": "1.2.0",
          "state": {
            "_model_module": "@jupyter-widgets/base",
            "_model_module_version": "1.2.0",
            "_model_name": "LayoutModel",
            "_view_count": null,
            "_view_module": "@jupyter-widgets/base",
            "_view_module_version": "1.2.0",
            "_view_name": "LayoutView",
            "align_content": null,
            "align_items": null,
            "align_self": null,
            "border": null,
            "bottom": null,
            "display": null,
            "flex": null,
            "flex_flow": null,
            "grid_area": null,
            "grid_auto_columns": null,
            "grid_auto_flow": null,
            "grid_auto_rows": null,
            "grid_column": null,
            "grid_gap": null,
            "grid_row": null,
            "grid_template_areas": null,
            "grid_template_columns": null,
            "grid_template_rows": null,
            "height": null,
            "justify_content": null,
            "justify_items": null,
            "left": null,
            "margin": null,
            "max_height": null,
            "max_width": null,
            "min_height": null,
            "min_width": null,
            "object_fit": null,
            "object_position": null,
            "order": null,
            "overflow": null,
            "overflow_x": null,
            "overflow_y": null,
            "padding": null,
            "right": null,
            "top": null,
            "visibility": null,
            "width": null
          }
        },
        "a4f7088694df464d8c27165bb17c8979": {
          "model_module": "@jupyter-widgets/controls",
          "model_name": "ProgressStyleModel",
          "model_module_version": "1.5.0",
          "state": {
            "_model_module": "@jupyter-widgets/controls",
            "_model_module_version": "1.5.0",
            "_model_name": "ProgressStyleModel",
            "_view_count": null,
            "_view_module": "@jupyter-widgets/base",
            "_view_module_version": "1.2.0",
            "_view_name": "StyleView",
            "bar_color": null,
            "description_width": ""
          }
        },
        "cc47e34a0f4f4dbe82045288ed481626": {
          "model_module": "@jupyter-widgets/base",
          "model_name": "LayoutModel",
          "model_module_version": "1.2.0",
          "state": {
            "_model_module": "@jupyter-widgets/base",
            "_model_module_version": "1.2.0",
            "_model_name": "LayoutModel",
            "_view_count": null,
            "_view_module": "@jupyter-widgets/base",
            "_view_module_version": "1.2.0",
            "_view_name": "LayoutView",
            "align_content": null,
            "align_items": null,
            "align_self": null,
            "border": null,
            "bottom": null,
            "display": null,
            "flex": null,
            "flex_flow": null,
            "grid_area": null,
            "grid_auto_columns": null,
            "grid_auto_flow": null,
            "grid_auto_rows": null,
            "grid_column": null,
            "grid_gap": null,
            "grid_row": null,
            "grid_template_areas": null,
            "grid_template_columns": null,
            "grid_template_rows": null,
            "height": null,
            "justify_content": null,
            "justify_items": null,
            "left": null,
            "margin": null,
            "max_height": null,
            "max_width": null,
            "min_height": null,
            "min_width": null,
            "object_fit": null,
            "object_position": null,
            "order": null,
            "overflow": null,
            "overflow_x": null,
            "overflow_y": null,
            "padding": null,
            "right": null,
            "top": null,
            "visibility": null,
            "width": null
          }
        },
        "8a31713d191d4646aafd620d95e724f6": {
          "model_module": "@jupyter-widgets/controls",
          "model_name": "DescriptionStyleModel",
          "model_module_version": "1.5.0",
          "state": {
            "_model_module": "@jupyter-widgets/controls",
            "_model_module_version": "1.5.0",
            "_model_name": "DescriptionStyleModel",
            "_view_count": null,
            "_view_module": "@jupyter-widgets/base",
            "_view_module_version": "1.2.0",
            "_view_name": "StyleView",
            "description_width": ""
          }
        },
        "6f67f1192420470c9257c7fef9eef250": {
          "model_module": "@jupyter-widgets/controls",
          "model_name": "HBoxModel",
          "model_module_version": "1.5.0",
          "state": {
            "_dom_classes": [],
            "_model_module": "@jupyter-widgets/controls",
            "_model_module_version": "1.5.0",
            "_model_name": "HBoxModel",
            "_view_count": null,
            "_view_module": "@jupyter-widgets/controls",
            "_view_module_version": "1.5.0",
            "_view_name": "HBoxView",
            "box_style": "",
            "children": [
              "IPY_MODEL_267c174c6218491b90f41b5876f8c7de",
              "IPY_MODEL_797b51b7b32c4eec8641b9d10ac5e659",
              "IPY_MODEL_34d0a8acefb14163a6470f9466f46eb2"
            ],
            "layout": "IPY_MODEL_d2e36d2bc3a042cca5497028d9131bdd"
          }
        },
        "267c174c6218491b90f41b5876f8c7de": {
          "model_module": "@jupyter-widgets/controls",
          "model_name": "HTMLModel",
          "model_module_version": "1.5.0",
          "state": {
            "_dom_classes": [],
            "_model_module": "@jupyter-widgets/controls",
            "_model_module_version": "1.5.0",
            "_model_name": "HTMLModel",
            "_view_count": null,
            "_view_module": "@jupyter-widgets/controls",
            "_view_module_version": "1.5.0",
            "_view_name": "HTMLView",
            "description": "",
            "description_tooltip": null,
            "layout": "IPY_MODEL_f025be3b458941918cb83c94fd98fd2e",
            "placeholder": "​",
            "style": "IPY_MODEL_2aa5e6a347454890bc94c3f59a2003e2",
            "value": "tokenizer_config.json: 100%"
          }
        },
        "797b51b7b32c4eec8641b9d10ac5e659": {
          "model_module": "@jupyter-widgets/controls",
          "model_name": "FloatProgressModel",
          "model_module_version": "1.5.0",
          "state": {
            "_dom_classes": [],
            "_model_module": "@jupyter-widgets/controls",
            "_model_module_version": "1.5.0",
            "_model_name": "FloatProgressModel",
            "_view_count": null,
            "_view_module": "@jupyter-widgets/controls",
            "_view_module_version": "1.5.0",
            "_view_name": "ProgressView",
            "bar_style": "success",
            "description": "",
            "description_tooltip": null,
            "layout": "IPY_MODEL_2465513c6424453e8540cd96bc8b0897",
            "max": 48,
            "min": 0,
            "orientation": "horizontal",
            "style": "IPY_MODEL_ee7a9d2ee11c40fdaa5af1e523bdb319",
            "value": 48
          }
        },
        "34d0a8acefb14163a6470f9466f46eb2": {
          "model_module": "@jupyter-widgets/controls",
          "model_name": "HTMLModel",
          "model_module_version": "1.5.0",
          "state": {
            "_dom_classes": [],
            "_model_module": "@jupyter-widgets/controls",
            "_model_module_version": "1.5.0",
            "_model_name": "HTMLModel",
            "_view_count": null,
            "_view_module": "@jupyter-widgets/controls",
            "_view_module_version": "1.5.0",
            "_view_name": "HTMLView",
            "description": "",
            "description_tooltip": null,
            "layout": "IPY_MODEL_9ba8f3c03f4c4feea9ca72bc3e0021d5",
            "placeholder": "​",
            "style": "IPY_MODEL_ec8fbda0263c4ff7b755f63855bcf7a2",
            "value": " 48.0/48.0 [00:00&lt;00:00, 3.82kB/s]"
          }
        },
        "d2e36d2bc3a042cca5497028d9131bdd": {
          "model_module": "@jupyter-widgets/base",
          "model_name": "LayoutModel",
          "model_module_version": "1.2.0",
          "state": {
            "_model_module": "@jupyter-widgets/base",
            "_model_module_version": "1.2.0",
            "_model_name": "LayoutModel",
            "_view_count": null,
            "_view_module": "@jupyter-widgets/base",
            "_view_module_version": "1.2.0",
            "_view_name": "LayoutView",
            "align_content": null,
            "align_items": null,
            "align_self": null,
            "border": null,
            "bottom": null,
            "display": null,
            "flex": null,
            "flex_flow": null,
            "grid_area": null,
            "grid_auto_columns": null,
            "grid_auto_flow": null,
            "grid_auto_rows": null,
            "grid_column": null,
            "grid_gap": null,
            "grid_row": null,
            "grid_template_areas": null,
            "grid_template_columns": null,
            "grid_template_rows": null,
            "height": null,
            "justify_content": null,
            "justify_items": null,
            "left": null,
            "margin": null,
            "max_height": null,
            "max_width": null,
            "min_height": null,
            "min_width": null,
            "object_fit": null,
            "object_position": null,
            "order": null,
            "overflow": null,
            "overflow_x": null,
            "overflow_y": null,
            "padding": null,
            "right": null,
            "top": null,
            "visibility": null,
            "width": null
          }
        },
        "f025be3b458941918cb83c94fd98fd2e": {
          "model_module": "@jupyter-widgets/base",
          "model_name": "LayoutModel",
          "model_module_version": "1.2.0",
          "state": {
            "_model_module": "@jupyter-widgets/base",
            "_model_module_version": "1.2.0",
            "_model_name": "LayoutModel",
            "_view_count": null,
            "_view_module": "@jupyter-widgets/base",
            "_view_module_version": "1.2.0",
            "_view_name": "LayoutView",
            "align_content": null,
            "align_items": null,
            "align_self": null,
            "border": null,
            "bottom": null,
            "display": null,
            "flex": null,
            "flex_flow": null,
            "grid_area": null,
            "grid_auto_columns": null,
            "grid_auto_flow": null,
            "grid_auto_rows": null,
            "grid_column": null,
            "grid_gap": null,
            "grid_row": null,
            "grid_template_areas": null,
            "grid_template_columns": null,
            "grid_template_rows": null,
            "height": null,
            "justify_content": null,
            "justify_items": null,
            "left": null,
            "margin": null,
            "max_height": null,
            "max_width": null,
            "min_height": null,
            "min_width": null,
            "object_fit": null,
            "object_position": null,
            "order": null,
            "overflow": null,
            "overflow_x": null,
            "overflow_y": null,
            "padding": null,
            "right": null,
            "top": null,
            "visibility": null,
            "width": null
          }
        },
        "2aa5e6a347454890bc94c3f59a2003e2": {
          "model_module": "@jupyter-widgets/controls",
          "model_name": "DescriptionStyleModel",
          "model_module_version": "1.5.0",
          "state": {
            "_model_module": "@jupyter-widgets/controls",
            "_model_module_version": "1.5.0",
            "_model_name": "DescriptionStyleModel",
            "_view_count": null,
            "_view_module": "@jupyter-widgets/base",
            "_view_module_version": "1.2.0",
            "_view_name": "StyleView",
            "description_width": ""
          }
        },
        "2465513c6424453e8540cd96bc8b0897": {
          "model_module": "@jupyter-widgets/base",
          "model_name": "LayoutModel",
          "model_module_version": "1.2.0",
          "state": {
            "_model_module": "@jupyter-widgets/base",
            "_model_module_version": "1.2.0",
            "_model_name": "LayoutModel",
            "_view_count": null,
            "_view_module": "@jupyter-widgets/base",
            "_view_module_version": "1.2.0",
            "_view_name": "LayoutView",
            "align_content": null,
            "align_items": null,
            "align_self": null,
            "border": null,
            "bottom": null,
            "display": null,
            "flex": null,
            "flex_flow": null,
            "grid_area": null,
            "grid_auto_columns": null,
            "grid_auto_flow": null,
            "grid_auto_rows": null,
            "grid_column": null,
            "grid_gap": null,
            "grid_row": null,
            "grid_template_areas": null,
            "grid_template_columns": null,
            "grid_template_rows": null,
            "height": null,
            "justify_content": null,
            "justify_items": null,
            "left": null,
            "margin": null,
            "max_height": null,
            "max_width": null,
            "min_height": null,
            "min_width": null,
            "object_fit": null,
            "object_position": null,
            "order": null,
            "overflow": null,
            "overflow_x": null,
            "overflow_y": null,
            "padding": null,
            "right": null,
            "top": null,
            "visibility": null,
            "width": null
          }
        },
        "ee7a9d2ee11c40fdaa5af1e523bdb319": {
          "model_module": "@jupyter-widgets/controls",
          "model_name": "ProgressStyleModel",
          "model_module_version": "1.5.0",
          "state": {
            "_model_module": "@jupyter-widgets/controls",
            "_model_module_version": "1.5.0",
            "_model_name": "ProgressStyleModel",
            "_view_count": null,
            "_view_module": "@jupyter-widgets/base",
            "_view_module_version": "1.2.0",
            "_view_name": "StyleView",
            "bar_color": null,
            "description_width": ""
          }
        },
        "9ba8f3c03f4c4feea9ca72bc3e0021d5": {
          "model_module": "@jupyter-widgets/base",
          "model_name": "LayoutModel",
          "model_module_version": "1.2.0",
          "state": {
            "_model_module": "@jupyter-widgets/base",
            "_model_module_version": "1.2.0",
            "_model_name": "LayoutModel",
            "_view_count": null,
            "_view_module": "@jupyter-widgets/base",
            "_view_module_version": "1.2.0",
            "_view_name": "LayoutView",
            "align_content": null,
            "align_items": null,
            "align_self": null,
            "border": null,
            "bottom": null,
            "display": null,
            "flex": null,
            "flex_flow": null,
            "grid_area": null,
            "grid_auto_columns": null,
            "grid_auto_flow": null,
            "grid_auto_rows": null,
            "grid_column": null,
            "grid_gap": null,
            "grid_row": null,
            "grid_template_areas": null,
            "grid_template_columns": null,
            "grid_template_rows": null,
            "height": null,
            "justify_content": null,
            "justify_items": null,
            "left": null,
            "margin": null,
            "max_height": null,
            "max_width": null,
            "min_height": null,
            "min_width": null,
            "object_fit": null,
            "object_position": null,
            "order": null,
            "overflow": null,
            "overflow_x": null,
            "overflow_y": null,
            "padding": null,
            "right": null,
            "top": null,
            "visibility": null,
            "width": null
          }
        },
        "ec8fbda0263c4ff7b755f63855bcf7a2": {
          "model_module": "@jupyter-widgets/controls",
          "model_name": "DescriptionStyleModel",
          "model_module_version": "1.5.0",
          "state": {
            "_model_module": "@jupyter-widgets/controls",
            "_model_module_version": "1.5.0",
            "_model_name": "DescriptionStyleModel",
            "_view_count": null,
            "_view_module": "@jupyter-widgets/base",
            "_view_module_version": "1.2.0",
            "_view_name": "StyleView",
            "description_width": ""
          }
        },
        "de42010531404a56afe3d298682b5b8b": {
          "model_module": "@jupyter-widgets/controls",
          "model_name": "HBoxModel",
          "model_module_version": "1.5.0",
          "state": {
            "_dom_classes": [],
            "_model_module": "@jupyter-widgets/controls",
            "_model_module_version": "1.5.0",
            "_model_name": "HBoxModel",
            "_view_count": null,
            "_view_module": "@jupyter-widgets/controls",
            "_view_module_version": "1.5.0",
            "_view_name": "HBoxView",
            "box_style": "",
            "children": [
              "IPY_MODEL_3a08962c1abf4c75ba8ef00074a3cf80",
              "IPY_MODEL_88f634b0ae824c83b4a8261e75605f49",
              "IPY_MODEL_ddacb24939774aa2a9b2a0d501ecb92d"
            ],
            "layout": "IPY_MODEL_05a93165abfe4d98b665bf9bcd1148a7"
          }
        },
        "3a08962c1abf4c75ba8ef00074a3cf80": {
          "model_module": "@jupyter-widgets/controls",
          "model_name": "HTMLModel",
          "model_module_version": "1.5.0",
          "state": {
            "_dom_classes": [],
            "_model_module": "@jupyter-widgets/controls",
            "_model_module_version": "1.5.0",
            "_model_name": "HTMLModel",
            "_view_count": null,
            "_view_module": "@jupyter-widgets/controls",
            "_view_module_version": "1.5.0",
            "_view_name": "HTMLView",
            "description": "",
            "description_tooltip": null,
            "layout": "IPY_MODEL_42df388ab8394b48a14a20cd7f6fea77",
            "placeholder": "​",
            "style": "IPY_MODEL_662120c718ab4820955b0bbee84542ee",
            "value": "vocab.txt: 100%"
          }
        },
        "88f634b0ae824c83b4a8261e75605f49": {
          "model_module": "@jupyter-widgets/controls",
          "model_name": "FloatProgressModel",
          "model_module_version": "1.5.0",
          "state": {
            "_dom_classes": [],
            "_model_module": "@jupyter-widgets/controls",
            "_model_module_version": "1.5.0",
            "_model_name": "FloatProgressModel",
            "_view_count": null,
            "_view_module": "@jupyter-widgets/controls",
            "_view_module_version": "1.5.0",
            "_view_name": "ProgressView",
            "bar_style": "success",
            "description": "",
            "description_tooltip": null,
            "layout": "IPY_MODEL_f88d6282516c4aaf914d7e67bdbeea4d",
            "max": 231508,
            "min": 0,
            "orientation": "horizontal",
            "style": "IPY_MODEL_c1571e12d6844af181d0e4303a2e6097",
            "value": 231508
          }
        },
        "ddacb24939774aa2a9b2a0d501ecb92d": {
          "model_module": "@jupyter-widgets/controls",
          "model_name": "HTMLModel",
          "model_module_version": "1.5.0",
          "state": {
            "_dom_classes": [],
            "_model_module": "@jupyter-widgets/controls",
            "_model_module_version": "1.5.0",
            "_model_name": "HTMLModel",
            "_view_count": null,
            "_view_module": "@jupyter-widgets/controls",
            "_view_module_version": "1.5.0",
            "_view_name": "HTMLView",
            "description": "",
            "description_tooltip": null,
            "layout": "IPY_MODEL_526b6fc8bffc4c3ca8fa1c12568655bd",
            "placeholder": "​",
            "style": "IPY_MODEL_2320989b28d64121b02a1e81b6e5fb6a",
            "value": " 232k/232k [00:00&lt;00:00, 4.02MB/s]"
          }
        },
        "05a93165abfe4d98b665bf9bcd1148a7": {
          "model_module": "@jupyter-widgets/base",
          "model_name": "LayoutModel",
          "model_module_version": "1.2.0",
          "state": {
            "_model_module": "@jupyter-widgets/base",
            "_model_module_version": "1.2.0",
            "_model_name": "LayoutModel",
            "_view_count": null,
            "_view_module": "@jupyter-widgets/base",
            "_view_module_version": "1.2.0",
            "_view_name": "LayoutView",
            "align_content": null,
            "align_items": null,
            "align_self": null,
            "border": null,
            "bottom": null,
            "display": null,
            "flex": null,
            "flex_flow": null,
            "grid_area": null,
            "grid_auto_columns": null,
            "grid_auto_flow": null,
            "grid_auto_rows": null,
            "grid_column": null,
            "grid_gap": null,
            "grid_row": null,
            "grid_template_areas": null,
            "grid_template_columns": null,
            "grid_template_rows": null,
            "height": null,
            "justify_content": null,
            "justify_items": null,
            "left": null,
            "margin": null,
            "max_height": null,
            "max_width": null,
            "min_height": null,
            "min_width": null,
            "object_fit": null,
            "object_position": null,
            "order": null,
            "overflow": null,
            "overflow_x": null,
            "overflow_y": null,
            "padding": null,
            "right": null,
            "top": null,
            "visibility": null,
            "width": null
          }
        },
        "42df388ab8394b48a14a20cd7f6fea77": {
          "model_module": "@jupyter-widgets/base",
          "model_name": "LayoutModel",
          "model_module_version": "1.2.0",
          "state": {
            "_model_module": "@jupyter-widgets/base",
            "_model_module_version": "1.2.0",
            "_model_name": "LayoutModel",
            "_view_count": null,
            "_view_module": "@jupyter-widgets/base",
            "_view_module_version": "1.2.0",
            "_view_name": "LayoutView",
            "align_content": null,
            "align_items": null,
            "align_self": null,
            "border": null,
            "bottom": null,
            "display": null,
            "flex": null,
            "flex_flow": null,
            "grid_area": null,
            "grid_auto_columns": null,
            "grid_auto_flow": null,
            "grid_auto_rows": null,
            "grid_column": null,
            "grid_gap": null,
            "grid_row": null,
            "grid_template_areas": null,
            "grid_template_columns": null,
            "grid_template_rows": null,
            "height": null,
            "justify_content": null,
            "justify_items": null,
            "left": null,
            "margin": null,
            "max_height": null,
            "max_width": null,
            "min_height": null,
            "min_width": null,
            "object_fit": null,
            "object_position": null,
            "order": null,
            "overflow": null,
            "overflow_x": null,
            "overflow_y": null,
            "padding": null,
            "right": null,
            "top": null,
            "visibility": null,
            "width": null
          }
        },
        "662120c718ab4820955b0bbee84542ee": {
          "model_module": "@jupyter-widgets/controls",
          "model_name": "DescriptionStyleModel",
          "model_module_version": "1.5.0",
          "state": {
            "_model_module": "@jupyter-widgets/controls",
            "_model_module_version": "1.5.0",
            "_model_name": "DescriptionStyleModel",
            "_view_count": null,
            "_view_module": "@jupyter-widgets/base",
            "_view_module_version": "1.2.0",
            "_view_name": "StyleView",
            "description_width": ""
          }
        },
        "f88d6282516c4aaf914d7e67bdbeea4d": {
          "model_module": "@jupyter-widgets/base",
          "model_name": "LayoutModel",
          "model_module_version": "1.2.0",
          "state": {
            "_model_module": "@jupyter-widgets/base",
            "_model_module_version": "1.2.0",
            "_model_name": "LayoutModel",
            "_view_count": null,
            "_view_module": "@jupyter-widgets/base",
            "_view_module_version": "1.2.0",
            "_view_name": "LayoutView",
            "align_content": null,
            "align_items": null,
            "align_self": null,
            "border": null,
            "bottom": null,
            "display": null,
            "flex": null,
            "flex_flow": null,
            "grid_area": null,
            "grid_auto_columns": null,
            "grid_auto_flow": null,
            "grid_auto_rows": null,
            "grid_column": null,
            "grid_gap": null,
            "grid_row": null,
            "grid_template_areas": null,
            "grid_template_columns": null,
            "grid_template_rows": null,
            "height": null,
            "justify_content": null,
            "justify_items": null,
            "left": null,
            "margin": null,
            "max_height": null,
            "max_width": null,
            "min_height": null,
            "min_width": null,
            "object_fit": null,
            "object_position": null,
            "order": null,
            "overflow": null,
            "overflow_x": null,
            "overflow_y": null,
            "padding": null,
            "right": null,
            "top": null,
            "visibility": null,
            "width": null
          }
        },
        "c1571e12d6844af181d0e4303a2e6097": {
          "model_module": "@jupyter-widgets/controls",
          "model_name": "ProgressStyleModel",
          "model_module_version": "1.5.0",
          "state": {
            "_model_module": "@jupyter-widgets/controls",
            "_model_module_version": "1.5.0",
            "_model_name": "ProgressStyleModel",
            "_view_count": null,
            "_view_module": "@jupyter-widgets/base",
            "_view_module_version": "1.2.0",
            "_view_name": "StyleView",
            "bar_color": null,
            "description_width": ""
          }
        },
        "526b6fc8bffc4c3ca8fa1c12568655bd": {
          "model_module": "@jupyter-widgets/base",
          "model_name": "LayoutModel",
          "model_module_version": "1.2.0",
          "state": {
            "_model_module": "@jupyter-widgets/base",
            "_model_module_version": "1.2.0",
            "_model_name": "LayoutModel",
            "_view_count": null,
            "_view_module": "@jupyter-widgets/base",
            "_view_module_version": "1.2.0",
            "_view_name": "LayoutView",
            "align_content": null,
            "align_items": null,
            "align_self": null,
            "border": null,
            "bottom": null,
            "display": null,
            "flex": null,
            "flex_flow": null,
            "grid_area": null,
            "grid_auto_columns": null,
            "grid_auto_flow": null,
            "grid_auto_rows": null,
            "grid_column": null,
            "grid_gap": null,
            "grid_row": null,
            "grid_template_areas": null,
            "grid_template_columns": null,
            "grid_template_rows": null,
            "height": null,
            "justify_content": null,
            "justify_items": null,
            "left": null,
            "margin": null,
            "max_height": null,
            "max_width": null,
            "min_height": null,
            "min_width": null,
            "object_fit": null,
            "object_position": null,
            "order": null,
            "overflow": null,
            "overflow_x": null,
            "overflow_y": null,
            "padding": null,
            "right": null,
            "top": null,
            "visibility": null,
            "width": null
          }
        },
        "2320989b28d64121b02a1e81b6e5fb6a": {
          "model_module": "@jupyter-widgets/controls",
          "model_name": "DescriptionStyleModel",
          "model_module_version": "1.5.0",
          "state": {
            "_model_module": "@jupyter-widgets/controls",
            "_model_module_version": "1.5.0",
            "_model_name": "DescriptionStyleModel",
            "_view_count": null,
            "_view_module": "@jupyter-widgets/base",
            "_view_module_version": "1.2.0",
            "_view_name": "StyleView",
            "description_width": ""
          }
        },
        "7a258de182554999a15eaa890ad607e6": {
          "model_module": "@jupyter-widgets/controls",
          "model_name": "HBoxModel",
          "model_module_version": "1.5.0",
          "state": {
            "_dom_classes": [],
            "_model_module": "@jupyter-widgets/controls",
            "_model_module_version": "1.5.0",
            "_model_name": "HBoxModel",
            "_view_count": null,
            "_view_module": "@jupyter-widgets/controls",
            "_view_module_version": "1.5.0",
            "_view_name": "HBoxView",
            "box_style": "",
            "children": [
              "IPY_MODEL_b0dcf733a5944232b299241b0528c1f6",
              "IPY_MODEL_9da66e04799a48f1a95f92e4b7cb69f9",
              "IPY_MODEL_bd72340f178845289ddbd42064829ca5"
            ],
            "layout": "IPY_MODEL_c30cc0eeb2154424b7b662c41d3562c0"
          }
        },
        "b0dcf733a5944232b299241b0528c1f6": {
          "model_module": "@jupyter-widgets/controls",
          "model_name": "HTMLModel",
          "model_module_version": "1.5.0",
          "state": {
            "_dom_classes": [],
            "_model_module": "@jupyter-widgets/controls",
            "_model_module_version": "1.5.0",
            "_model_name": "HTMLModel",
            "_view_count": null,
            "_view_module": "@jupyter-widgets/controls",
            "_view_module_version": "1.5.0",
            "_view_name": "HTMLView",
            "description": "",
            "description_tooltip": null,
            "layout": "IPY_MODEL_23b059228ba746649ce8e9c56bcc9ba2",
            "placeholder": "​",
            "style": "IPY_MODEL_a2480b3f15b4442fbf178c89fa20df76",
            "value": "config.json: 100%"
          }
        },
        "9da66e04799a48f1a95f92e4b7cb69f9": {
          "model_module": "@jupyter-widgets/controls",
          "model_name": "FloatProgressModel",
          "model_module_version": "1.5.0",
          "state": {
            "_dom_classes": [],
            "_model_module": "@jupyter-widgets/controls",
            "_model_module_version": "1.5.0",
            "_model_name": "FloatProgressModel",
            "_view_count": null,
            "_view_module": "@jupyter-widgets/controls",
            "_view_module_version": "1.5.0",
            "_view_name": "ProgressView",
            "bar_style": "success",
            "description": "",
            "description_tooltip": null,
            "layout": "IPY_MODEL_d9521b44573b42a198e270549b657e77",
            "max": 533,
            "min": 0,
            "orientation": "horizontal",
            "style": "IPY_MODEL_c83130ce2d924abeba41a826608f9d8f",
            "value": 533
          }
        },
        "bd72340f178845289ddbd42064829ca5": {
          "model_module": "@jupyter-widgets/controls",
          "model_name": "HTMLModel",
          "model_module_version": "1.5.0",
          "state": {
            "_dom_classes": [],
            "_model_module": "@jupyter-widgets/controls",
            "_model_module_version": "1.5.0",
            "_model_name": "HTMLModel",
            "_view_count": null,
            "_view_module": "@jupyter-widgets/controls",
            "_view_module_version": "1.5.0",
            "_view_name": "HTMLView",
            "description": "",
            "description_tooltip": null,
            "layout": "IPY_MODEL_67d4779d2fd14a3cb2fa2620b66e803e",
            "placeholder": "​",
            "style": "IPY_MODEL_e8c92b80e3404aed92c8437252e421eb",
            "value": " 533/533 [00:00&lt;00:00, 10.4kB/s]"
          }
        },
        "c30cc0eeb2154424b7b662c41d3562c0": {
          "model_module": "@jupyter-widgets/base",
          "model_name": "LayoutModel",
          "model_module_version": "1.2.0",
          "state": {
            "_model_module": "@jupyter-widgets/base",
            "_model_module_version": "1.2.0",
            "_model_name": "LayoutModel",
            "_view_count": null,
            "_view_module": "@jupyter-widgets/base",
            "_view_module_version": "1.2.0",
            "_view_name": "LayoutView",
            "align_content": null,
            "align_items": null,
            "align_self": null,
            "border": null,
            "bottom": null,
            "display": null,
            "flex": null,
            "flex_flow": null,
            "grid_area": null,
            "grid_auto_columns": null,
            "grid_auto_flow": null,
            "grid_auto_rows": null,
            "grid_column": null,
            "grid_gap": null,
            "grid_row": null,
            "grid_template_areas": null,
            "grid_template_columns": null,
            "grid_template_rows": null,
            "height": null,
            "justify_content": null,
            "justify_items": null,
            "left": null,
            "margin": null,
            "max_height": null,
            "max_width": null,
            "min_height": null,
            "min_width": null,
            "object_fit": null,
            "object_position": null,
            "order": null,
            "overflow": null,
            "overflow_x": null,
            "overflow_y": null,
            "padding": null,
            "right": null,
            "top": null,
            "visibility": null,
            "width": null
          }
        },
        "23b059228ba746649ce8e9c56bcc9ba2": {
          "model_module": "@jupyter-widgets/base",
          "model_name": "LayoutModel",
          "model_module_version": "1.2.0",
          "state": {
            "_model_module": "@jupyter-widgets/base",
            "_model_module_version": "1.2.0",
            "_model_name": "LayoutModel",
            "_view_count": null,
            "_view_module": "@jupyter-widgets/base",
            "_view_module_version": "1.2.0",
            "_view_name": "LayoutView",
            "align_content": null,
            "align_items": null,
            "align_self": null,
            "border": null,
            "bottom": null,
            "display": null,
            "flex": null,
            "flex_flow": null,
            "grid_area": null,
            "grid_auto_columns": null,
            "grid_auto_flow": null,
            "grid_auto_rows": null,
            "grid_column": null,
            "grid_gap": null,
            "grid_row": null,
            "grid_template_areas": null,
            "grid_template_columns": null,
            "grid_template_rows": null,
            "height": null,
            "justify_content": null,
            "justify_items": null,
            "left": null,
            "margin": null,
            "max_height": null,
            "max_width": null,
            "min_height": null,
            "min_width": null,
            "object_fit": null,
            "object_position": null,
            "order": null,
            "overflow": null,
            "overflow_x": null,
            "overflow_y": null,
            "padding": null,
            "right": null,
            "top": null,
            "visibility": null,
            "width": null
          }
        },
        "a2480b3f15b4442fbf178c89fa20df76": {
          "model_module": "@jupyter-widgets/controls",
          "model_name": "DescriptionStyleModel",
          "model_module_version": "1.5.0",
          "state": {
            "_model_module": "@jupyter-widgets/controls",
            "_model_module_version": "1.5.0",
            "_model_name": "DescriptionStyleModel",
            "_view_count": null,
            "_view_module": "@jupyter-widgets/base",
            "_view_module_version": "1.2.0",
            "_view_name": "StyleView",
            "description_width": ""
          }
        },
        "d9521b44573b42a198e270549b657e77": {
          "model_module": "@jupyter-widgets/base",
          "model_name": "LayoutModel",
          "model_module_version": "1.2.0",
          "state": {
            "_model_module": "@jupyter-widgets/base",
            "_model_module_version": "1.2.0",
            "_model_name": "LayoutModel",
            "_view_count": null,
            "_view_module": "@jupyter-widgets/base",
            "_view_module_version": "1.2.0",
            "_view_name": "LayoutView",
            "align_content": null,
            "align_items": null,
            "align_self": null,
            "border": null,
            "bottom": null,
            "display": null,
            "flex": null,
            "flex_flow": null,
            "grid_area": null,
            "grid_auto_columns": null,
            "grid_auto_flow": null,
            "grid_auto_rows": null,
            "grid_column": null,
            "grid_gap": null,
            "grid_row": null,
            "grid_template_areas": null,
            "grid_template_columns": null,
            "grid_template_rows": null,
            "height": null,
            "justify_content": null,
            "justify_items": null,
            "left": null,
            "margin": null,
            "max_height": null,
            "max_width": null,
            "min_height": null,
            "min_width": null,
            "object_fit": null,
            "object_position": null,
            "order": null,
            "overflow": null,
            "overflow_x": null,
            "overflow_y": null,
            "padding": null,
            "right": null,
            "top": null,
            "visibility": null,
            "width": null
          }
        },
        "c83130ce2d924abeba41a826608f9d8f": {
          "model_module": "@jupyter-widgets/controls",
          "model_name": "ProgressStyleModel",
          "model_module_version": "1.5.0",
          "state": {
            "_model_module": "@jupyter-widgets/controls",
            "_model_module_version": "1.5.0",
            "_model_name": "ProgressStyleModel",
            "_view_count": null,
            "_view_module": "@jupyter-widgets/base",
            "_view_module_version": "1.2.0",
            "_view_name": "StyleView",
            "bar_color": null,
            "description_width": ""
          }
        },
        "67d4779d2fd14a3cb2fa2620b66e803e": {
          "model_module": "@jupyter-widgets/base",
          "model_name": "LayoutModel",
          "model_module_version": "1.2.0",
          "state": {
            "_model_module": "@jupyter-widgets/base",
            "_model_module_version": "1.2.0",
            "_model_name": "LayoutModel",
            "_view_count": null,
            "_view_module": "@jupyter-widgets/base",
            "_view_module_version": "1.2.0",
            "_view_name": "LayoutView",
            "align_content": null,
            "align_items": null,
            "align_self": null,
            "border": null,
            "bottom": null,
            "display": null,
            "flex": null,
            "flex_flow": null,
            "grid_area": null,
            "grid_auto_columns": null,
            "grid_auto_flow": null,
            "grid_auto_rows": null,
            "grid_column": null,
            "grid_gap": null,
            "grid_row": null,
            "grid_template_areas": null,
            "grid_template_columns": null,
            "grid_template_rows": null,
            "height": null,
            "justify_content": null,
            "justify_items": null,
            "left": null,
            "margin": null,
            "max_height": null,
            "max_width": null,
            "min_height": null,
            "min_width": null,
            "object_fit": null,
            "object_position": null,
            "order": null,
            "overflow": null,
            "overflow_x": null,
            "overflow_y": null,
            "padding": null,
            "right": null,
            "top": null,
            "visibility": null,
            "width": null
          }
        },
        "e8c92b80e3404aed92c8437252e421eb": {
          "model_module": "@jupyter-widgets/controls",
          "model_name": "DescriptionStyleModel",
          "model_module_version": "1.5.0",
          "state": {
            "_model_module": "@jupyter-widgets/controls",
            "_model_module_version": "1.5.0",
            "_model_name": "DescriptionStyleModel",
            "_view_count": null,
            "_view_module": "@jupyter-widgets/base",
            "_view_module_version": "1.2.0",
            "_view_name": "StyleView",
            "description_width": ""
          }
        },
        "8023bd5bc8a6434da1a56b32bbbe0fcb": {
          "model_module": "@jupyter-widgets/controls",
          "model_name": "HBoxModel",
          "model_module_version": "1.5.0",
          "state": {
            "_dom_classes": [],
            "_model_module": "@jupyter-widgets/controls",
            "_model_module_version": "1.5.0",
            "_model_name": "HBoxModel",
            "_view_count": null,
            "_view_module": "@jupyter-widgets/controls",
            "_view_module_version": "1.5.0",
            "_view_name": "HBoxView",
            "box_style": "",
            "children": [
              "IPY_MODEL_c4cd3e2359e342d9bef8afb9d099949a",
              "IPY_MODEL_95030b3b8f6b4c63b5b3abbe937b9f08",
              "IPY_MODEL_d3caeb2b5cd04bf1a79c376137d8fb30"
            ],
            "layout": "IPY_MODEL_5137a2f844b64f88b817fd595c8c9527"
          }
        },
        "c4cd3e2359e342d9bef8afb9d099949a": {
          "model_module": "@jupyter-widgets/controls",
          "model_name": "HTMLModel",
          "model_module_version": "1.5.0",
          "state": {
            "_dom_classes": [],
            "_model_module": "@jupyter-widgets/controls",
            "_model_module_version": "1.5.0",
            "_model_name": "HTMLModel",
            "_view_count": null,
            "_view_module": "@jupyter-widgets/controls",
            "_view_module_version": "1.5.0",
            "_view_name": "HTMLView",
            "description": "",
            "description_tooltip": null,
            "layout": "IPY_MODEL_fb772fb798554a09a3b2370e65a0266c",
            "placeholder": "​",
            "style": "IPY_MODEL_3d6e8170f94d40ae976023b885a5f818",
            "value": "vocab.txt: 100%"
          }
        },
        "95030b3b8f6b4c63b5b3abbe937b9f08": {
          "model_module": "@jupyter-widgets/controls",
          "model_name": "FloatProgressModel",
          "model_module_version": "1.5.0",
          "state": {
            "_dom_classes": [],
            "_model_module": "@jupyter-widgets/controls",
            "_model_module_version": "1.5.0",
            "_model_name": "FloatProgressModel",
            "_view_count": null,
            "_view_module": "@jupyter-widgets/controls",
            "_view_module_version": "1.5.0",
            "_view_name": "ProgressView",
            "bar_style": "success",
            "description": "",
            "description_tooltip": null,
            "layout": "IPY_MODEL_a80a266e5ee9481c96e660b392a2748b",
            "max": 226122,
            "min": 0,
            "orientation": "horizontal",
            "style": "IPY_MODEL_4a43a4a720514ff89b43ed76e7d35682",
            "value": 226122
          }
        },
        "d3caeb2b5cd04bf1a79c376137d8fb30": {
          "model_module": "@jupyter-widgets/controls",
          "model_name": "HTMLModel",
          "model_module_version": "1.5.0",
          "state": {
            "_dom_classes": [],
            "_model_module": "@jupyter-widgets/controls",
            "_model_module_version": "1.5.0",
            "_model_name": "HTMLModel",
            "_view_count": null,
            "_view_module": "@jupyter-widgets/controls",
            "_view_module_version": "1.5.0",
            "_view_name": "HTMLView",
            "description": "",
            "description_tooltip": null,
            "layout": "IPY_MODEL_f065fdf2577d4a5fa45013eb5bc778fe",
            "placeholder": "​",
            "style": "IPY_MODEL_a79361371ee44447b4b7a954e10d0400",
            "value": " 226k/226k [00:00&lt;00:00, 1.51MB/s]"
          }
        },
        "5137a2f844b64f88b817fd595c8c9527": {
          "model_module": "@jupyter-widgets/base",
          "model_name": "LayoutModel",
          "model_module_version": "1.2.0",
          "state": {
            "_model_module": "@jupyter-widgets/base",
            "_model_module_version": "1.2.0",
            "_model_name": "LayoutModel",
            "_view_count": null,
            "_view_module": "@jupyter-widgets/base",
            "_view_module_version": "1.2.0",
            "_view_name": "LayoutView",
            "align_content": null,
            "align_items": null,
            "align_self": null,
            "border": null,
            "bottom": null,
            "display": null,
            "flex": null,
            "flex_flow": null,
            "grid_area": null,
            "grid_auto_columns": null,
            "grid_auto_flow": null,
            "grid_auto_rows": null,
            "grid_column": null,
            "grid_gap": null,
            "grid_row": null,
            "grid_template_areas": null,
            "grid_template_columns": null,
            "grid_template_rows": null,
            "height": null,
            "justify_content": null,
            "justify_items": null,
            "left": null,
            "margin": null,
            "max_height": null,
            "max_width": null,
            "min_height": null,
            "min_width": null,
            "object_fit": null,
            "object_position": null,
            "order": null,
            "overflow": null,
            "overflow_x": null,
            "overflow_y": null,
            "padding": null,
            "right": null,
            "top": null,
            "visibility": null,
            "width": null
          }
        },
        "fb772fb798554a09a3b2370e65a0266c": {
          "model_module": "@jupyter-widgets/base",
          "model_name": "LayoutModel",
          "model_module_version": "1.2.0",
          "state": {
            "_model_module": "@jupyter-widgets/base",
            "_model_module_version": "1.2.0",
            "_model_name": "LayoutModel",
            "_view_count": null,
            "_view_module": "@jupyter-widgets/base",
            "_view_module_version": "1.2.0",
            "_view_name": "LayoutView",
            "align_content": null,
            "align_items": null,
            "align_self": null,
            "border": null,
            "bottom": null,
            "display": null,
            "flex": null,
            "flex_flow": null,
            "grid_area": null,
            "grid_auto_columns": null,
            "grid_auto_flow": null,
            "grid_auto_rows": null,
            "grid_column": null,
            "grid_gap": null,
            "grid_row": null,
            "grid_template_areas": null,
            "grid_template_columns": null,
            "grid_template_rows": null,
            "height": null,
            "justify_content": null,
            "justify_items": null,
            "left": null,
            "margin": null,
            "max_height": null,
            "max_width": null,
            "min_height": null,
            "min_width": null,
            "object_fit": null,
            "object_position": null,
            "order": null,
            "overflow": null,
            "overflow_x": null,
            "overflow_y": null,
            "padding": null,
            "right": null,
            "top": null,
            "visibility": null,
            "width": null
          }
        },
        "3d6e8170f94d40ae976023b885a5f818": {
          "model_module": "@jupyter-widgets/controls",
          "model_name": "DescriptionStyleModel",
          "model_module_version": "1.5.0",
          "state": {
            "_model_module": "@jupyter-widgets/controls",
            "_model_module_version": "1.5.0",
            "_model_name": "DescriptionStyleModel",
            "_view_count": null,
            "_view_module": "@jupyter-widgets/base",
            "_view_module_version": "1.2.0",
            "_view_name": "StyleView",
            "description_width": ""
          }
        },
        "a80a266e5ee9481c96e660b392a2748b": {
          "model_module": "@jupyter-widgets/base",
          "model_name": "LayoutModel",
          "model_module_version": "1.2.0",
          "state": {
            "_model_module": "@jupyter-widgets/base",
            "_model_module_version": "1.2.0",
            "_model_name": "LayoutModel",
            "_view_count": null,
            "_view_module": "@jupyter-widgets/base",
            "_view_module_version": "1.2.0",
            "_view_name": "LayoutView",
            "align_content": null,
            "align_items": null,
            "align_self": null,
            "border": null,
            "bottom": null,
            "display": null,
            "flex": null,
            "flex_flow": null,
            "grid_area": null,
            "grid_auto_columns": null,
            "grid_auto_flow": null,
            "grid_auto_rows": null,
            "grid_column": null,
            "grid_gap": null,
            "grid_row": null,
            "grid_template_areas": null,
            "grid_template_columns": null,
            "grid_template_rows": null,
            "height": null,
            "justify_content": null,
            "justify_items": null,
            "left": null,
            "margin": null,
            "max_height": null,
            "max_width": null,
            "min_height": null,
            "min_width": null,
            "object_fit": null,
            "object_position": null,
            "order": null,
            "overflow": null,
            "overflow_x": null,
            "overflow_y": null,
            "padding": null,
            "right": null,
            "top": null,
            "visibility": null,
            "width": null
          }
        },
        "4a43a4a720514ff89b43ed76e7d35682": {
          "model_module": "@jupyter-widgets/controls",
          "model_name": "ProgressStyleModel",
          "model_module_version": "1.5.0",
          "state": {
            "_model_module": "@jupyter-widgets/controls",
            "_model_module_version": "1.5.0",
            "_model_name": "ProgressStyleModel",
            "_view_count": null,
            "_view_module": "@jupyter-widgets/base",
            "_view_module_version": "1.2.0",
            "_view_name": "StyleView",
            "bar_color": null,
            "description_width": ""
          }
        },
        "f065fdf2577d4a5fa45013eb5bc778fe": {
          "model_module": "@jupyter-widgets/base",
          "model_name": "LayoutModel",
          "model_module_version": "1.2.0",
          "state": {
            "_model_module": "@jupyter-widgets/base",
            "_model_module_version": "1.2.0",
            "_model_name": "LayoutModel",
            "_view_count": null,
            "_view_module": "@jupyter-widgets/base",
            "_view_module_version": "1.2.0",
            "_view_name": "LayoutView",
            "align_content": null,
            "align_items": null,
            "align_self": null,
            "border": null,
            "bottom": null,
            "display": null,
            "flex": null,
            "flex_flow": null,
            "grid_area": null,
            "grid_auto_columns": null,
            "grid_auto_flow": null,
            "grid_auto_rows": null,
            "grid_column": null,
            "grid_gap": null,
            "grid_row": null,
            "grid_template_areas": null,
            "grid_template_columns": null,
            "grid_template_rows": null,
            "height": null,
            "justify_content": null,
            "justify_items": null,
            "left": null,
            "margin": null,
            "max_height": null,
            "max_width": null,
            "min_height": null,
            "min_width": null,
            "object_fit": null,
            "object_position": null,
            "order": null,
            "overflow": null,
            "overflow_x": null,
            "overflow_y": null,
            "padding": null,
            "right": null,
            "top": null,
            "visibility": null,
            "width": null
          }
        },
        "a79361371ee44447b4b7a954e10d0400": {
          "model_module": "@jupyter-widgets/controls",
          "model_name": "DescriptionStyleModel",
          "model_module_version": "1.5.0",
          "state": {
            "_model_module": "@jupyter-widgets/controls",
            "_model_module_version": "1.5.0",
            "_model_name": "DescriptionStyleModel",
            "_view_count": null,
            "_view_module": "@jupyter-widgets/base",
            "_view_module_version": "1.2.0",
            "_view_name": "StyleView",
            "description_width": ""
          }
        },
        "5e7647e7bcc743bb875780ff67e61542": {
          "model_module": "@jupyter-widgets/controls",
          "model_name": "HBoxModel",
          "model_module_version": "1.5.0",
          "state": {
            "_dom_classes": [],
            "_model_module": "@jupyter-widgets/controls",
            "_model_module_version": "1.5.0",
            "_model_name": "HBoxModel",
            "_view_count": null,
            "_view_module": "@jupyter-widgets/controls",
            "_view_module_version": "1.5.0",
            "_view_name": "HBoxView",
            "box_style": "",
            "children": [
              "IPY_MODEL_6e90880de6804e59a878e8ff964c8247",
              "IPY_MODEL_5557fb9211d043d388034e07d1192601",
              "IPY_MODEL_01ad45f743d84a0391c9db43a6404f9d"
            ],
            "layout": "IPY_MODEL_a065cfc79d25472688a16806a732c4f6"
          }
        },
        "6e90880de6804e59a878e8ff964c8247": {
          "model_module": "@jupyter-widgets/controls",
          "model_name": "HTMLModel",
          "model_module_version": "1.5.0",
          "state": {
            "_dom_classes": [],
            "_model_module": "@jupyter-widgets/controls",
            "_model_module_version": "1.5.0",
            "_model_name": "HTMLModel",
            "_view_count": null,
            "_view_module": "@jupyter-widgets/controls",
            "_view_module_version": "1.5.0",
            "_view_name": "HTMLView",
            "description": "",
            "description_tooltip": null,
            "layout": "IPY_MODEL_5b82ad44350844189aaf8442188a1dde",
            "placeholder": "​",
            "style": "IPY_MODEL_2495ba7091b540adacc9dd179c597af5",
            "value": "pytorch_model.bin: 100%"
          }
        },
        "5557fb9211d043d388034e07d1192601": {
          "model_module": "@jupyter-widgets/controls",
          "model_name": "FloatProgressModel",
          "model_module_version": "1.5.0",
          "state": {
            "_dom_classes": [],
            "_model_module": "@jupyter-widgets/controls",
            "_model_module_version": "1.5.0",
            "_model_name": "FloatProgressModel",
            "_view_count": null,
            "_view_module": "@jupyter-widgets/controls",
            "_view_module_version": "1.5.0",
            "_view_name": "ProgressView",
            "bar_style": "success",
            "description": "",
            "description_tooltip": null,
            "layout": "IPY_MODEL_ef3bd62258b643b9877038f158ef21b2",
            "max": 439101405,
            "min": 0,
            "orientation": "horizontal",
            "style": "IPY_MODEL_f91f0bd78b934ada952904d4b0eb305d",
            "value": 439101405
          }
        },
        "01ad45f743d84a0391c9db43a6404f9d": {
          "model_module": "@jupyter-widgets/controls",
          "model_name": "HTMLModel",
          "model_module_version": "1.5.0",
          "state": {
            "_dom_classes": [],
            "_model_module": "@jupyter-widgets/controls",
            "_model_module_version": "1.5.0",
            "_model_name": "HTMLModel",
            "_view_count": null,
            "_view_module": "@jupyter-widgets/controls",
            "_view_module_version": "1.5.0",
            "_view_name": "HTMLView",
            "description": "",
            "description_tooltip": null,
            "layout": "IPY_MODEL_ab8687219a554614b7324d67d2c78f18",
            "placeholder": "​",
            "style": "IPY_MODEL_b306103d2fe84e798ceba064cd856070",
            "value": " 439M/439M [00:07&lt;00:00, 111MB/s]"
          }
        },
        "a065cfc79d25472688a16806a732c4f6": {
          "model_module": "@jupyter-widgets/base",
          "model_name": "LayoutModel",
          "model_module_version": "1.2.0",
          "state": {
            "_model_module": "@jupyter-widgets/base",
            "_model_module_version": "1.2.0",
            "_model_name": "LayoutModel",
            "_view_count": null,
            "_view_module": "@jupyter-widgets/base",
            "_view_module_version": "1.2.0",
            "_view_name": "LayoutView",
            "align_content": null,
            "align_items": null,
            "align_self": null,
            "border": null,
            "bottom": null,
            "display": null,
            "flex": null,
            "flex_flow": null,
            "grid_area": null,
            "grid_auto_columns": null,
            "grid_auto_flow": null,
            "grid_auto_rows": null,
            "grid_column": null,
            "grid_gap": null,
            "grid_row": null,
            "grid_template_areas": null,
            "grid_template_columns": null,
            "grid_template_rows": null,
            "height": null,
            "justify_content": null,
            "justify_items": null,
            "left": null,
            "margin": null,
            "max_height": null,
            "max_width": null,
            "min_height": null,
            "min_width": null,
            "object_fit": null,
            "object_position": null,
            "order": null,
            "overflow": null,
            "overflow_x": null,
            "overflow_y": null,
            "padding": null,
            "right": null,
            "top": null,
            "visibility": null,
            "width": null
          }
        },
        "5b82ad44350844189aaf8442188a1dde": {
          "model_module": "@jupyter-widgets/base",
          "model_name": "LayoutModel",
          "model_module_version": "1.2.0",
          "state": {
            "_model_module": "@jupyter-widgets/base",
            "_model_module_version": "1.2.0",
            "_model_name": "LayoutModel",
            "_view_count": null,
            "_view_module": "@jupyter-widgets/base",
            "_view_module_version": "1.2.0",
            "_view_name": "LayoutView",
            "align_content": null,
            "align_items": null,
            "align_self": null,
            "border": null,
            "bottom": null,
            "display": null,
            "flex": null,
            "flex_flow": null,
            "grid_area": null,
            "grid_auto_columns": null,
            "grid_auto_flow": null,
            "grid_auto_rows": null,
            "grid_column": null,
            "grid_gap": null,
            "grid_row": null,
            "grid_template_areas": null,
            "grid_template_columns": null,
            "grid_template_rows": null,
            "height": null,
            "justify_content": null,
            "justify_items": null,
            "left": null,
            "margin": null,
            "max_height": null,
            "max_width": null,
            "min_height": null,
            "min_width": null,
            "object_fit": null,
            "object_position": null,
            "order": null,
            "overflow": null,
            "overflow_x": null,
            "overflow_y": null,
            "padding": null,
            "right": null,
            "top": null,
            "visibility": null,
            "width": null
          }
        },
        "2495ba7091b540adacc9dd179c597af5": {
          "model_module": "@jupyter-widgets/controls",
          "model_name": "DescriptionStyleModel",
          "model_module_version": "1.5.0",
          "state": {
            "_model_module": "@jupyter-widgets/controls",
            "_model_module_version": "1.5.0",
            "_model_name": "DescriptionStyleModel",
            "_view_count": null,
            "_view_module": "@jupyter-widgets/base",
            "_view_module_version": "1.2.0",
            "_view_name": "StyleView",
            "description_width": ""
          }
        },
        "ef3bd62258b643b9877038f158ef21b2": {
          "model_module": "@jupyter-widgets/base",
          "model_name": "LayoutModel",
          "model_module_version": "1.2.0",
          "state": {
            "_model_module": "@jupyter-widgets/base",
            "_model_module_version": "1.2.0",
            "_model_name": "LayoutModel",
            "_view_count": null,
            "_view_module": "@jupyter-widgets/base",
            "_view_module_version": "1.2.0",
            "_view_name": "LayoutView",
            "align_content": null,
            "align_items": null,
            "align_self": null,
            "border": null,
            "bottom": null,
            "display": null,
            "flex": null,
            "flex_flow": null,
            "grid_area": null,
            "grid_auto_columns": null,
            "grid_auto_flow": null,
            "grid_auto_rows": null,
            "grid_column": null,
            "grid_gap": null,
            "grid_row": null,
            "grid_template_areas": null,
            "grid_template_columns": null,
            "grid_template_rows": null,
            "height": null,
            "justify_content": null,
            "justify_items": null,
            "left": null,
            "margin": null,
            "max_height": null,
            "max_width": null,
            "min_height": null,
            "min_width": null,
            "object_fit": null,
            "object_position": null,
            "order": null,
            "overflow": null,
            "overflow_x": null,
            "overflow_y": null,
            "padding": null,
            "right": null,
            "top": null,
            "visibility": null,
            "width": null
          }
        },
        "f91f0bd78b934ada952904d4b0eb305d": {
          "model_module": "@jupyter-widgets/controls",
          "model_name": "ProgressStyleModel",
          "model_module_version": "1.5.0",
          "state": {
            "_model_module": "@jupyter-widgets/controls",
            "_model_module_version": "1.5.0",
            "_model_name": "ProgressStyleModel",
            "_view_count": null,
            "_view_module": "@jupyter-widgets/base",
            "_view_module_version": "1.2.0",
            "_view_name": "StyleView",
            "bar_color": null,
            "description_width": ""
          }
        },
        "ab8687219a554614b7324d67d2c78f18": {
          "model_module": "@jupyter-widgets/base",
          "model_name": "LayoutModel",
          "model_module_version": "1.2.0",
          "state": {
            "_model_module": "@jupyter-widgets/base",
            "_model_module_version": "1.2.0",
            "_model_name": "LayoutModel",
            "_view_count": null,
            "_view_module": "@jupyter-widgets/base",
            "_view_module_version": "1.2.0",
            "_view_name": "LayoutView",
            "align_content": null,
            "align_items": null,
            "align_self": null,
            "border": null,
            "bottom": null,
            "display": null,
            "flex": null,
            "flex_flow": null,
            "grid_area": null,
            "grid_auto_columns": null,
            "grid_auto_flow": null,
            "grid_auto_rows": null,
            "grid_column": null,
            "grid_gap": null,
            "grid_row": null,
            "grid_template_areas": null,
            "grid_template_columns": null,
            "grid_template_rows": null,
            "height": null,
            "justify_content": null,
            "justify_items": null,
            "left": null,
            "margin": null,
            "max_height": null,
            "max_width": null,
            "min_height": null,
            "min_width": null,
            "object_fit": null,
            "object_position": null,
            "order": null,
            "overflow": null,
            "overflow_x": null,
            "overflow_y": null,
            "padding": null,
            "right": null,
            "top": null,
            "visibility": null,
            "width": null
          }
        },
        "b306103d2fe84e798ceba064cd856070": {
          "model_module": "@jupyter-widgets/controls",
          "model_name": "DescriptionStyleModel",
          "model_module_version": "1.5.0",
          "state": {
            "_model_module": "@jupyter-widgets/controls",
            "_model_module_version": "1.5.0",
            "_model_name": "DescriptionStyleModel",
            "_view_count": null,
            "_view_module": "@jupyter-widgets/base",
            "_view_module_version": "1.2.0",
            "_view_name": "StyleView",
            "description_width": ""
          }
        },
        "b3a3e8ab503340e99909e8f62ef1dba3": {
          "model_module": "@jupyter-widgets/controls",
          "model_name": "HBoxModel",
          "model_module_version": "1.5.0",
          "state": {
            "_dom_classes": [],
            "_model_module": "@jupyter-widgets/controls",
            "_model_module_version": "1.5.0",
            "_model_name": "HBoxModel",
            "_view_count": null,
            "_view_module": "@jupyter-widgets/controls",
            "_view_module_version": "1.5.0",
            "_view_name": "HBoxView",
            "box_style": "",
            "children": [
              "IPY_MODEL_6bc2df2a5ebb4d2787b7cdf4bc066cb8",
              "IPY_MODEL_3f55cf827257474588fc718aa74a853f",
              "IPY_MODEL_28c7e5609b3547aab75b5ba4dbd2d74f"
            ],
            "layout": "IPY_MODEL_a65769fe8a244ba3b1a99689a14284fb"
          }
        },
        "6bc2df2a5ebb4d2787b7cdf4bc066cb8": {
          "model_module": "@jupyter-widgets/controls",
          "model_name": "HTMLModel",
          "model_module_version": "1.5.0",
          "state": {
            "_dom_classes": [],
            "_model_module": "@jupyter-widgets/controls",
            "_model_module_version": "1.5.0",
            "_model_name": "HTMLModel",
            "_view_count": null,
            "_view_module": "@jupyter-widgets/controls",
            "_view_module_version": "1.5.0",
            "_view_name": "HTMLView",
            "description": "",
            "description_tooltip": null,
            "layout": "IPY_MODEL_0c3e27df95e64683a94f5534b41dd5bf",
            "placeholder": "​",
            "style": "IPY_MODEL_8c723dc3e45f4587a375cca86c669b03",
            "value": "model.safetensors: 100%"
          }
        },
        "3f55cf827257474588fc718aa74a853f": {
          "model_module": "@jupyter-widgets/controls",
          "model_name": "FloatProgressModel",
          "model_module_version": "1.5.0",
          "state": {
            "_dom_classes": [],
            "_model_module": "@jupyter-widgets/controls",
            "_model_module_version": "1.5.0",
            "_model_name": "FloatProgressModel",
            "_view_count": null,
            "_view_module": "@jupyter-widgets/controls",
            "_view_module_version": "1.5.0",
            "_view_name": "ProgressView",
            "bar_style": "success",
            "description": "",
            "description_tooltip": null,
            "layout": "IPY_MODEL_62d26d2f09274ecfb6b70e372cfabc86",
            "max": 439044180,
            "min": 0,
            "orientation": "horizontal",
            "style": "IPY_MODEL_9691e97ad0fb493683fa2e3ed94abc5f",
            "value": 439044180
          }
        },
        "28c7e5609b3547aab75b5ba4dbd2d74f": {
          "model_module": "@jupyter-widgets/controls",
          "model_name": "HTMLModel",
          "model_module_version": "1.5.0",
          "state": {
            "_dom_classes": [],
            "_model_module": "@jupyter-widgets/controls",
            "_model_module_version": "1.5.0",
            "_model_name": "HTMLModel",
            "_view_count": null,
            "_view_module": "@jupyter-widgets/controls",
            "_view_module_version": "1.5.0",
            "_view_name": "HTMLView",
            "description": "",
            "description_tooltip": null,
            "layout": "IPY_MODEL_f3bf3fdddf7740d791d9dc900d4bd483",
            "placeholder": "​",
            "style": "IPY_MODEL_6b3dc0ecf24043678f88252695f05c22",
            "value": " 439M/439M [00:04&lt;00:00, 104MB/s]"
          }
        },
        "a65769fe8a244ba3b1a99689a14284fb": {
          "model_module": "@jupyter-widgets/base",
          "model_name": "LayoutModel",
          "model_module_version": "1.2.0",
          "state": {
            "_model_module": "@jupyter-widgets/base",
            "_model_module_version": "1.2.0",
            "_model_name": "LayoutModel",
            "_view_count": null,
            "_view_module": "@jupyter-widgets/base",
            "_view_module_version": "1.2.0",
            "_view_name": "LayoutView",
            "align_content": null,
            "align_items": null,
            "align_self": null,
            "border": null,
            "bottom": null,
            "display": null,
            "flex": null,
            "flex_flow": null,
            "grid_area": null,
            "grid_auto_columns": null,
            "grid_auto_flow": null,
            "grid_auto_rows": null,
            "grid_column": null,
            "grid_gap": null,
            "grid_row": null,
            "grid_template_areas": null,
            "grid_template_columns": null,
            "grid_template_rows": null,
            "height": null,
            "justify_content": null,
            "justify_items": null,
            "left": null,
            "margin": null,
            "max_height": null,
            "max_width": null,
            "min_height": null,
            "min_width": null,
            "object_fit": null,
            "object_position": null,
            "order": null,
            "overflow": null,
            "overflow_x": null,
            "overflow_y": null,
            "padding": null,
            "right": null,
            "top": null,
            "visibility": null,
            "width": null
          }
        },
        "0c3e27df95e64683a94f5534b41dd5bf": {
          "model_module": "@jupyter-widgets/base",
          "model_name": "LayoutModel",
          "model_module_version": "1.2.0",
          "state": {
            "_model_module": "@jupyter-widgets/base",
            "_model_module_version": "1.2.0",
            "_model_name": "LayoutModel",
            "_view_count": null,
            "_view_module": "@jupyter-widgets/base",
            "_view_module_version": "1.2.0",
            "_view_name": "LayoutView",
            "align_content": null,
            "align_items": null,
            "align_self": null,
            "border": null,
            "bottom": null,
            "display": null,
            "flex": null,
            "flex_flow": null,
            "grid_area": null,
            "grid_auto_columns": null,
            "grid_auto_flow": null,
            "grid_auto_rows": null,
            "grid_column": null,
            "grid_gap": null,
            "grid_row": null,
            "grid_template_areas": null,
            "grid_template_columns": null,
            "grid_template_rows": null,
            "height": null,
            "justify_content": null,
            "justify_items": null,
            "left": null,
            "margin": null,
            "max_height": null,
            "max_width": null,
            "min_height": null,
            "min_width": null,
            "object_fit": null,
            "object_position": null,
            "order": null,
            "overflow": null,
            "overflow_x": null,
            "overflow_y": null,
            "padding": null,
            "right": null,
            "top": null,
            "visibility": null,
            "width": null
          }
        },
        "8c723dc3e45f4587a375cca86c669b03": {
          "model_module": "@jupyter-widgets/controls",
          "model_name": "DescriptionStyleModel",
          "model_module_version": "1.5.0",
          "state": {
            "_model_module": "@jupyter-widgets/controls",
            "_model_module_version": "1.5.0",
            "_model_name": "DescriptionStyleModel",
            "_view_count": null,
            "_view_module": "@jupyter-widgets/base",
            "_view_module_version": "1.2.0",
            "_view_name": "StyleView",
            "description_width": ""
          }
        },
        "62d26d2f09274ecfb6b70e372cfabc86": {
          "model_module": "@jupyter-widgets/base",
          "model_name": "LayoutModel",
          "model_module_version": "1.2.0",
          "state": {
            "_model_module": "@jupyter-widgets/base",
            "_model_module_version": "1.2.0",
            "_model_name": "LayoutModel",
            "_view_count": null,
            "_view_module": "@jupyter-widgets/base",
            "_view_module_version": "1.2.0",
            "_view_name": "LayoutView",
            "align_content": null,
            "align_items": null,
            "align_self": null,
            "border": null,
            "bottom": null,
            "display": null,
            "flex": null,
            "flex_flow": null,
            "grid_area": null,
            "grid_auto_columns": null,
            "grid_auto_flow": null,
            "grid_auto_rows": null,
            "grid_column": null,
            "grid_gap": null,
            "grid_row": null,
            "grid_template_areas": null,
            "grid_template_columns": null,
            "grid_template_rows": null,
            "height": null,
            "justify_content": null,
            "justify_items": null,
            "left": null,
            "margin": null,
            "max_height": null,
            "max_width": null,
            "min_height": null,
            "min_width": null,
            "object_fit": null,
            "object_position": null,
            "order": null,
            "overflow": null,
            "overflow_x": null,
            "overflow_y": null,
            "padding": null,
            "right": null,
            "top": null,
            "visibility": null,
            "width": null
          }
        },
        "9691e97ad0fb493683fa2e3ed94abc5f": {
          "model_module": "@jupyter-widgets/controls",
          "model_name": "ProgressStyleModel",
          "model_module_version": "1.5.0",
          "state": {
            "_model_module": "@jupyter-widgets/controls",
            "_model_module_version": "1.5.0",
            "_model_name": "ProgressStyleModel",
            "_view_count": null,
            "_view_module": "@jupyter-widgets/base",
            "_view_module_version": "1.2.0",
            "_view_name": "StyleView",
            "bar_color": null,
            "description_width": ""
          }
        },
        "f3bf3fdddf7740d791d9dc900d4bd483": {
          "model_module": "@jupyter-widgets/base",
          "model_name": "LayoutModel",
          "model_module_version": "1.2.0",
          "state": {
            "_model_module": "@jupyter-widgets/base",
            "_model_module_version": "1.2.0",
            "_model_name": "LayoutModel",
            "_view_count": null,
            "_view_module": "@jupyter-widgets/base",
            "_view_module_version": "1.2.0",
            "_view_name": "LayoutView",
            "align_content": null,
            "align_items": null,
            "align_self": null,
            "border": null,
            "bottom": null,
            "display": null,
            "flex": null,
            "flex_flow": null,
            "grid_area": null,
            "grid_auto_columns": null,
            "grid_auto_flow": null,
            "grid_auto_rows": null,
            "grid_column": null,
            "grid_gap": null,
            "grid_row": null,
            "grid_template_areas": null,
            "grid_template_columns": null,
            "grid_template_rows": null,
            "height": null,
            "justify_content": null,
            "justify_items": null,
            "left": null,
            "margin": null,
            "max_height": null,
            "max_width": null,
            "min_height": null,
            "min_width": null,
            "object_fit": null,
            "object_position": null,
            "order": null,
            "overflow": null,
            "overflow_x": null,
            "overflow_y": null,
            "padding": null,
            "right": null,
            "top": null,
            "visibility": null,
            "width": null
          }
        },
        "6b3dc0ecf24043678f88252695f05c22": {
          "model_module": "@jupyter-widgets/controls",
          "model_name": "DescriptionStyleModel",
          "model_module_version": "1.5.0",
          "state": {
            "_model_module": "@jupyter-widgets/controls",
            "_model_module_version": "1.5.0",
            "_model_name": "DescriptionStyleModel",
            "_view_count": null,
            "_view_module": "@jupyter-widgets/base",
            "_view_module_version": "1.2.0",
            "_view_name": "StyleView",
            "description_width": ""
          }
        }
      }
    }
  },
  "cells": [
    {
      "cell_type": "markdown",
      "source": [
        "# imports"
      ],
      "metadata": {
        "id": "EO_EDY4WVMVJ"
      }
    },
    {
      "cell_type": "code",
      "source": [
        "!pip install langdetect\n",
        "from langdetect import detect\n"
      ],
      "metadata": {
        "colab": {
          "base_uri": "https://localhost:8080/"
        },
        "id": "n3Lrx_QzalaR",
        "outputId": "ddc97f52-b813-4c1c-a2f2-9f42cea3e3d5"
      },
      "execution_count": null,
      "outputs": [
        {
          "output_type": "stream",
          "name": "stdout",
          "text": [
            "Requirement already satisfied: langdetect in /usr/local/lib/python3.11/dist-packages (1.0.9)\n",
            "Requirement already satisfied: six in /usr/local/lib/python3.11/dist-packages (from langdetect) (1.17.0)\n"
          ]
        }
      ]
    },
    {
      "cell_type": "code",
      "source": [
        "!pip install firebase-admin"
      ],
      "metadata": {
        "colab": {
          "base_uri": "https://localhost:8080/"
        },
        "id": "cKuk5GPKSnoM",
        "outputId": "9c206848-77d2-4bef-c660-a27244340f90"
      },
      "execution_count": null,
      "outputs": [
        {
          "output_type": "stream",
          "name": "stdout",
          "text": [
            "Requirement already satisfied: firebase-admin in /usr/local/lib/python3.11/dist-packages (6.8.0)\n",
            "Requirement already satisfied: cachecontrol>=0.12.14 in /usr/local/lib/python3.11/dist-packages (from firebase-admin) (0.14.3)\n",
            "Requirement already satisfied: google-api-python-client>=1.7.8 in /usr/local/lib/python3.11/dist-packages (from firebase-admin) (2.169.0)\n",
            "Requirement already satisfied: google-cloud-storage>=1.37.1 in /usr/local/lib/python3.11/dist-packages (from firebase-admin) (2.19.0)\n",
            "Requirement already satisfied: pyjwt>=2.5.0 in /usr/local/lib/python3.11/dist-packages (from pyjwt[crypto]>=2.5.0->firebase-admin) (2.10.1)\n",
            "Requirement already satisfied: google-api-core<3.0.0dev,>=1.22.1 in /usr/local/lib/python3.11/dist-packages (from google-api-core[grpc]<3.0.0dev,>=1.22.1; platform_python_implementation != \"PyPy\"->firebase-admin) (2.24.2)\n",
            "Requirement already satisfied: google-cloud-firestore>=2.19.0 in /usr/local/lib/python3.11/dist-packages (from firebase-admin) (2.20.2)\n",
            "Requirement already satisfied: requests>=2.16.0 in /usr/local/lib/python3.11/dist-packages (from cachecontrol>=0.12.14->firebase-admin) (2.32.3)\n",
            "Requirement already satisfied: msgpack<2.0.0,>=0.5.2 in /usr/local/lib/python3.11/dist-packages (from cachecontrol>=0.12.14->firebase-admin) (1.1.0)\n",
            "Requirement already satisfied: googleapis-common-protos<2.0.0,>=1.56.2 in /usr/local/lib/python3.11/dist-packages (from google-api-core<3.0.0dev,>=1.22.1->google-api-core[grpc]<3.0.0dev,>=1.22.1; platform_python_implementation != \"PyPy\"->firebase-admin) (1.70.0)\n",
            "Requirement already satisfied: protobuf!=3.20.0,!=3.20.1,!=4.21.0,!=4.21.1,!=4.21.2,!=4.21.3,!=4.21.4,!=4.21.5,<7.0.0,>=3.19.5 in /usr/local/lib/python3.11/dist-packages (from google-api-core<3.0.0dev,>=1.22.1->google-api-core[grpc]<3.0.0dev,>=1.22.1; platform_python_implementation != \"PyPy\"->firebase-admin) (5.29.4)\n",
            "Requirement already satisfied: proto-plus<2.0.0,>=1.22.3 in /usr/local/lib/python3.11/dist-packages (from google-api-core<3.0.0dev,>=1.22.1->google-api-core[grpc]<3.0.0dev,>=1.22.1; platform_python_implementation != \"PyPy\"->firebase-admin) (1.26.1)\n",
            "Requirement already satisfied: google-auth<3.0.0,>=2.14.1 in /usr/local/lib/python3.11/dist-packages (from google-api-core<3.0.0dev,>=1.22.1->google-api-core[grpc]<3.0.0dev,>=1.22.1; platform_python_implementation != \"PyPy\"->firebase-admin) (2.38.0)\n",
            "Requirement already satisfied: grpcio<2.0dev,>=1.33.2 in /usr/local/lib/python3.11/dist-packages (from google-api-core[grpc]<3.0.0dev,>=1.22.1; platform_python_implementation != \"PyPy\"->firebase-admin) (1.71.0)\n",
            "Requirement already satisfied: grpcio-status<2.0.dev0,>=1.33.2 in /usr/local/lib/python3.11/dist-packages (from google-api-core[grpc]<3.0.0dev,>=1.22.1; platform_python_implementation != \"PyPy\"->firebase-admin) (1.71.0)\n",
            "Requirement already satisfied: httplib2<1.0.0,>=0.19.0 in /usr/local/lib/python3.11/dist-packages (from google-api-python-client>=1.7.8->firebase-admin) (0.22.0)\n",
            "Requirement already satisfied: google-auth-httplib2<1.0.0,>=0.2.0 in /usr/local/lib/python3.11/dist-packages (from google-api-python-client>=1.7.8->firebase-admin) (0.2.0)\n",
            "Requirement already satisfied: uritemplate<5,>=3.0.1 in /usr/local/lib/python3.11/dist-packages (from google-api-python-client>=1.7.8->firebase-admin) (4.1.1)\n",
            "Requirement already satisfied: google-cloud-core<3.0.0,>=1.4.1 in /usr/local/lib/python3.11/dist-packages (from google-cloud-firestore>=2.19.0->firebase-admin) (2.4.3)\n",
            "Requirement already satisfied: google-resumable-media>=2.7.2 in /usr/local/lib/python3.11/dist-packages (from google-cloud-storage>=1.37.1->firebase-admin) (2.7.2)\n",
            "Requirement already satisfied: google-crc32c<2.0dev,>=1.0 in /usr/local/lib/python3.11/dist-packages (from google-cloud-storage>=1.37.1->firebase-admin) (1.7.1)\n",
            "Requirement already satisfied: cryptography>=3.4.0 in /usr/local/lib/python3.11/dist-packages (from pyjwt[crypto]>=2.5.0->firebase-admin) (43.0.3)\n",
            "Requirement already satisfied: cffi>=1.12 in /usr/local/lib/python3.11/dist-packages (from cryptography>=3.4.0->pyjwt[crypto]>=2.5.0->firebase-admin) (1.17.1)\n",
            "Requirement already satisfied: cachetools<6.0,>=2.0.0 in /usr/local/lib/python3.11/dist-packages (from google-auth<3.0.0,>=2.14.1->google-api-core<3.0.0dev,>=1.22.1->google-api-core[grpc]<3.0.0dev,>=1.22.1; platform_python_implementation != \"PyPy\"->firebase-admin) (5.5.2)\n",
            "Requirement already satisfied: pyasn1-modules>=0.2.1 in /usr/local/lib/python3.11/dist-packages (from google-auth<3.0.0,>=2.14.1->google-api-core<3.0.0dev,>=1.22.1->google-api-core[grpc]<3.0.0dev,>=1.22.1; platform_python_implementation != \"PyPy\"->firebase-admin) (0.4.2)\n",
            "Requirement already satisfied: rsa<5,>=3.1.4 in /usr/local/lib/python3.11/dist-packages (from google-auth<3.0.0,>=2.14.1->google-api-core<3.0.0dev,>=1.22.1->google-api-core[grpc]<3.0.0dev,>=1.22.1; platform_python_implementation != \"PyPy\"->firebase-admin) (4.9.1)\n",
            "Requirement already satisfied: pyparsing!=3.0.0,!=3.0.1,!=3.0.2,!=3.0.3,<4,>=2.4.2 in /usr/local/lib/python3.11/dist-packages (from httplib2<1.0.0,>=0.19.0->google-api-python-client>=1.7.8->firebase-admin) (3.2.3)\n",
            "Requirement already satisfied: charset-normalizer<4,>=2 in /usr/local/lib/python3.11/dist-packages (from requests>=2.16.0->cachecontrol>=0.12.14->firebase-admin) (3.4.2)\n",
            "Requirement already satisfied: idna<4,>=2.5 in /usr/local/lib/python3.11/dist-packages (from requests>=2.16.0->cachecontrol>=0.12.14->firebase-admin) (3.10)\n",
            "Requirement already satisfied: urllib3<3,>=1.21.1 in /usr/local/lib/python3.11/dist-packages (from requests>=2.16.0->cachecontrol>=0.12.14->firebase-admin) (2.4.0)\n",
            "Requirement already satisfied: certifi>=2017.4.17 in /usr/local/lib/python3.11/dist-packages (from requests>=2.16.0->cachecontrol>=0.12.14->firebase-admin) (2025.4.26)\n",
            "Requirement already satisfied: pycparser in /usr/local/lib/python3.11/dist-packages (from cffi>=1.12->cryptography>=3.4.0->pyjwt[crypto]>=2.5.0->firebase-admin) (2.22)\n",
            "Requirement already satisfied: pyasn1<0.7.0,>=0.6.1 in /usr/local/lib/python3.11/dist-packages (from pyasn1-modules>=0.2.1->google-auth<3.0.0,>=2.14.1->google-api-core<3.0.0dev,>=1.22.1->google-api-core[grpc]<3.0.0dev,>=1.22.1; platform_python_implementation != \"PyPy\"->firebase-admin) (0.6.1)\n"
          ]
        }
      ]
    },
    {
      "cell_type": "code",
      "source": [
        "import firebase_admin\n",
        "from firebase_admin import credentials, firestore\n",
        "\n",
        "if not firebase_admin._apps:\n",
        "    cred = credentials.Certificate(\"sentimentm.json\")\n",
        "    firebase_admin.initialize_app(cred)\n",
        "\n",
        "db = firestore.client()"
      ],
      "metadata": {
        "id": "6jIE8iZ_N_j4"
      },
      "execution_count": null,
      "outputs": []
    },
    {
      "cell_type": "code",
      "source": [
        "from datetime import datetime\n",
        "\n",
        "doc_ref = db.collection(\"news_analysis\").document()\n",
        "doc_ref.set({\n",
        "    \"title\": \"TEST: Bitcoin price update\",\n",
        "    \"sentiment_label\": \"POSITIVE\",\n",
        "    \"sentiment_score\": 0.87,\n",
        "    \"timestamp\": datetime.now().strftime(\"%Y-%m-%d %H:%M:%S\"),\n",
        "    \"source\": \"automated_script\"\n",
        "})\n",
        "\n",
        "print(\"✅ Check Firebase Console → Firestore → news_analysis for new document!\")"
      ],
      "metadata": {
        "colab": {
          "base_uri": "https://localhost:8080/"
        },
        "id": "S-F8fXobLBDL",
        "outputId": "bc853fcf-8d3a-45b7-f88d-4a161a28149a"
      },
      "execution_count": null,
      "outputs": [
        {
          "output_type": "stream",
          "name": "stdout",
          "text": [
            "✅ Check Firebase Console → Firestore → news_analysis for new document!\n"
          ]
        }
      ]
    },
    {
      "cell_type": "code",
      "source": [
        "# This will auto-create the 'news_analysis' collection with documents\n",
        "test_ref = db.collection(\"news_analysis\").document(\"test_doc\")\n",
        "test_ref.set({\n",
        "    \"title\": \"Test News\",\n",
        "    \"sentiment_label\": \"NEUTRAL\",\n",
        "    \"sentiment_score\": 0.5,\n",
        "    \"timestamp\": firestore.SERVER_TIMESTAMP\n",
        "})"
      ],
      "metadata": {
        "colab": {
          "base_uri": "https://localhost:8080/"
        },
        "id": "3msxROwjJ-Ja",
        "outputId": "2e3ff055-f737-418b-c24d-83e75715356c"
      },
      "execution_count": null,
      "outputs": [
        {
          "output_type": "execute_result",
          "data": {
            "text/plain": [
              "update_time {\n",
              "  seconds: 1748374193\n",
              "  nanos: 567000\n",
              "}\n",
              "transform_results {\n",
              "  timestamp_value {\n",
              "    seconds: 1748374192\n",
              "    nanos: 979000000\n",
              "  }\n",
              "}"
            ]
          },
          "metadata": {},
          "execution_count": 6
        }
      ]
    },
    {
      "cell_type": "markdown",
      "source": [
        "# code"
      ],
      "metadata": {
        "id": "piWfj3jUVVRV"
      }
    },
    {
      "cell_type": "code",
      "source": [
        "import requests\n",
        "import time\n",
        "from getpass import getpass\n",
        "import requests\n",
        "import time\n",
        "\n",
        "API_KEY = getpass('Enter your NewsAPI key: ')\n",
        "QUERY = \"bitcoin\"\n",
        "PAGE_SIZE = 100\n",
        "MAX_ARTICLES = 299\n",
        "\n",
        "all_articles = []\n",
        "page = 1\n",
        "\n",
        "url = f\"https://newsapi.org/v2/everything?q={QUERY}&pageSize={PAGE_SIZE}&page={page}&apiKey={API_KEY}\"\n",
        "response = requests.get(url)\n",
        "data = response.json()\n",
        "\n",
        "total_results = data.get(\"totalResults\", 0)\n",
        "print(f\"Total articles available: {total_results}\")\n",
        "\n",
        "max_to_fetch = min(MAX_ARTICLES, total_results)\n",
        "\n",
        "while len(all_articles) < max_to_fetch:\n",
        "    url = f\"https://newsapi.org/v2/everything?q={QUERY}&pageSize={PAGE_SIZE}&page={page}&apiKey={API_KEY}\"\n",
        "    response = requests.get(url)\n",
        "    data = response.json()\n",
        "\n",
        "    articles = data.get(\"articles\", [])\n",
        "    if not articles:\n",
        "        break\n",
        "\n",
        "    all_articles.extend(articles)\n",
        "    print(f\"Fetched {len(all_articles)} articles so far...\")\n",
        "\n",
        "    if len(all_articles) >= max_to_fetch:\n",
        "        break\n",
        "\n",
        "    page += 1\n",
        "    time.sleep(1)  # polite delay to avoid hitting API rate limits\n",
        "\n",
        "print(f\"Total articles fetched: {len(all_articles)}\")"
      ],
      "metadata": {
        "colab": {
          "base_uri": "https://localhost:8080/"
        },
        "id": "3m2bEE77wyD1",
        "outputId": "6ade55d7-6604-4f8b-d27f-1be8498aabc8"
      },
      "execution_count": null,
      "outputs": [
        {
          "output_type": "stream",
          "name": "stdout",
          "text": [
            "Enter your NewsAPI key: ··········\n",
            "Total articles available: 12145\n",
            "Fetched 99 articles so far...\n",
            "Total articles fetched: 99\n"
          ]
        }
      ]
    },
    {
      "cell_type": "code",
      "source": [
        "from pyspark.sql import SparkSession\n",
        "\n",
        "# Initialize SparkSession if not already\n",
        "spark = SparkSession.builder.appName(\"news_sentiment_analysis\").getOrCreate()\n",
        "\n",
        "# Convert list of dicts to Spark DataFrame\n",
        "combined_df = spark.createDataFrame(all_articles)\n",
        "\n",
        "# Now you can use combined_df.show(), combined_df.columns, etc.\n",
        "combined_df.show(10, truncate=False)"
      ],
      "metadata": {
        "colab": {
          "base_uri": "https://localhost:8080/"
        },
        "id": "W3HnjkfJxaLl",
        "outputId": "9fd9c3f4-3b3b-4a3b-8947-ec6f2606a6b1"
      },
      "execution_count": null,
      "outputs": [
        {
          "output_type": "stream",
          "name": "stdout",
          "text": [
            "+------------------+--------------------------------------------------------------------------------------------------------------------------------------------------------------------------------------------------------------------------+--------------------------------------------------------------------------------------------------------------------------------------------------------------------------------------------------------------------------------------------------------------------+--------------------+--------------------------------------------------+-------------------------------------------------------------------------------------------------------+------------------------------------------------------------------------------------------------------------------------------+---------------------------------------------------------------------------------------------------------------------------------------------------------------------------------------------+\n",
            "|author            |content                                                                                                                                                                                                                   |description                                                                                                                                                                                                                                                         |publishedAt         |source                                            |title                                                                                                  |url                                                                                                                           |urlToImage                                                                                                                                                                                   |\n",
            "+------------------+--------------------------------------------------------------------------------------------------------------------------------------------------------------------------------------------------------------------------+--------------------------------------------------------------------------------------------------------------------------------------------------------------------------------------------------------------------------------------------------------------------+--------------------+--------------------------------------------------+-------------------------------------------------------------------------------------------------------+------------------------------------------------------------------------------------------------------------------------------+---------------------------------------------------------------------------------------------------------------------------------------------------------------------------------------------+\n",
            "|Lucas Ropek       |A Massachusetts teenager has pled guilty to a number of hacking crimes, including his role in the penetration of a cloud company with data on tens of millions of children, the government says.\\r\\nOn We… [+2678 chars]  |A company with the personal information of tens of millions of children was breached last year.                                                                                                                                                                     |2025-05-21T18:53:36Z|{name -> Gizmodo.com, id -> NULL}                 |19-Year-Old to Plead Guilty to Hacking Charges After Data Breach of Millions of Schoolchildren         |https://gizmodo.com/19-year-old-to-plead-guilty-to-hacking-charges-after-data-breach-of-millions-of-schoolchildren-2000605540 |https://gizmodo.com/app/uploads/2022/03/17144a5c640c20e7a04ffa123ce0fd2a.jpg                                                                                                                 |\n",
            "|msmash            |The bomb will never go off. I speak as an expert in explosives.\\r\\n-- Admiral William Leahy, U.S. Atomic Bomb Project                                                                                                     |Pakistan will allocate 2,000 megawatts (MW) of electricity in the first phase of a national initiative to power bitcoin mining and AI data centres, its finance ministry said on Sunday. The allocation is part of Islamabad's plans to use its surplus electricity…|2025-05-26T17:00:00Z|{name -> Slashdot.org, id -> NULL}                |Pakistan Allocates 2,000 Megawatts of Electricity To Bitcoin Mining, AI Data Centres                   |https://slashdot.org/story/25/05/26/1549251/pakistan-allocates-2000-megawatts-of-electricity-to-bitcoin-mining-ai-data-centres|https://a.fsdn.com/sd/topics/bitcoin_64.png                                                                                                                                                  |\n",
            "|Brian McGleenon   |Bitcoin (BTC-USD) traded relatively flat on Thursday, priced just above $102,200 (£76,989) down around 1% on the day as institutional investors resumed allocations into US-based spot bitcoin exchange… [+2465 chars]    |Bitcoin traded relatively flat on Thursday as institutional investors resumed allocations into US-based spot bitcoin exchange-traded funds on Wednesday.                                                                                                            |2025-05-15T08:39:52Z|{name -> Yahoo Entertainment, id -> NULL}         |Bitcoin price holds above $102,000 as BlackRock leads fund inflows                                     |https://uk.finance.yahoo.com/news/bitcoin-price-blackrock-fund-inflows-083952678.html                                         |https://s.yimg.com/ny/api/res/1.2/VccZ29AP5EbMUUA1Bt5b8A--/YXBwaWQ9aGlnaGxhbmRlcjt3PTEyMDA7aD03Njk-/https://s.yimg.com/os/creatr-uploaded-images/2024-03/1a844b70-e77d-11ee-afed-082fc5f5ad1b|\n",
            "|Reed Alexander    |Jamie DimonTom Williams/CQ-Roll Call, Inc via Getty Images\\r\\n<ul><li>JPMorgan CEO Jamie Dimon addressed a range of topics at the firm's Investor Day meeting on Monday.</li><li>He said the bank will al… [+3395 chars]  |The JPMorgan CEO said the bank will allow investors to buy bitcoin while warning against stagflation and sounding a hopeful note on regulations.                                                                                                                    |2025-05-19T19:35:06Z|{name -> Business Insider, id -> business-insider}|Jamie Dimon opens the door to bitcoin, warns against stagflation in wide-ranging remarks to investors  |https://www.businessinsider.com/jamie-dimon-bitcoin-stagflation-regulation-trum-investor-day-remarks-2025-5                   |https://i.insider.com/682b87e3c6ad288d1481573e?width=1200&format=jpeg                                                                                                                        |\n",
            "|Murtuza J Merchant|Benzinga and Yahoo Finance LLC may earn commission or revenue on some items through the links below.\\r\\nEl Salvador's bold foray into Bitcoin (CRYPTO: BTC) has entered a new chapter of profitability.\\r\\n… [+1958 chars]|El Salvador's bold foray into Bitcoin (CRYPTO: BTC) has entered a new chapter of profitability. As of May 19, the country's BTC portfolio stands at...                                                                                                              |2025-05-20T03:31:34Z|{name -> Yahoo Entertainment, id -> NULL}         |El Salvador's Bitcoin Holdings Show $357 Million In Unrealized Profit As Bitcoin Closes At Record Highs|https://finance.yahoo.com/news/el-salvadors-bitcoin-holdings-show-033134288.html                                              |https://media.zenfs.com/en/benzinga_79/adbae4051492d8a88035da448858fe44                                                                                                                      |\n",
            "|Anushka Basu      |Bitcoin is back in focus as geopolitical tensions once again intersect with the crypto market.\\r\\nOn May 6, U.S. President Donald Trump met with newly elected Canadian Prime Minister Mark Carney for a … [+1513 chars]  |Canadian PM Mark Carney goes to White House as Trump challenges $200B subsidy; Bitcoin edges up on trade hope.                                                                                                                                                      |2025-05-06T16:22:39Z|{name -> TheStreet, id -> NULL}                   |Markets reel after Trump resumes tariff talks with Canada                                              |https://www.thestreet.com/crypto/policy/trump-resumes-trade-talks-with-canadian-prime-minister-                               |https://media.zenfs.com/en/thestreet_881/f39d448dc4ef777c6cabba98d26f459e                                                                                                                    |\n",
            "|Andrew R. Chow    |JPMorgan Chases CEO Jamie Dimon has long been one of Bitcoins most vicious skeptics. In 2017, he said he would fire any employee who traded Bitcoin for being stupid, and called it a fraud. Last year,… [+3599 chars]    |One of Wall Street's biggest crypto skeptics will now allow JPMorgan Chase's clients to buy Bitcoin.                                                                                                                                                                |2025-05-20T18:55:24Z|{name -> Time, id -> time}                        |The Significance of Jamie Dimon’s Reluctant Bitcoin Surrender                                          |https://time.com/7287164/jpmorgan-chase-bitcoin-jamie-dimon/                                                                  |https://api.time.com/wp-content/uploads/2025/05/GettyImages-2214559208.jpg?quality=85&crop=0px%2C0px%2C1024px%2C536px&resize=1200%2C628&strip                                                |\n",
            "|BeauHD            |The transaction, reported on April 28, saw funds moved from a potential victim's wallet to the address bc1qcry...vz55g. Following the transfer, the stolen stash was quickly laundered through over six… [+522 chars]     |Onchain investigator ZachXBT flagged a suspicious $330.7 million Bitcoin transfer that was quickly laundered into Monero, causing XMR's price to spike by 50%. CoinTelegraph reports: The transaction, reported on April 28, saw funds moved from a potential victi…|2025-04-28T21:00:00Z|{name -> Slashdot.org, id -> NULL}                |Monero Likely Pumped 50% Due To Suspected $330 Million Bitcoin Theft                                   |https://slashdot.org/story/25/04/28/198238/monero-likely-pumped-50-due-to-suspected-330-million-bitcoin-theft                 |https://a.fsdn.com/sd/topics/bitcoin_64.png                                                                                                                                                  |\n",
            "|Khac Phu Nguyen   |Cantor Fitzgerald is going all in on Bitcoin (BTC-USD). Backed by stablecoin giant Tether Holdings SA and SoftBank Group, the firm just launched Twenty One Capital a bold crypto venture designed to r… [+2121 chars]    |Backed by Tether and SoftBank, Twenty One Capital is coming for Strategy's crypto crown -- and it's not playing small.                                                                                                                                              |2025-05-08T18:17:00Z|{name -> Yahoo Entertainment, id -> NULL}         |Wall Street's New Bitcoin Monster: Cantor's $4B Bet Could Dethrone Michael Saylor                      |https://finance.yahoo.com/news/wall-streets-bitcoin-monster-cantors-181700343.html                                            |https://media.zenfs.com/en/us.finance.gurufocus/8418d3e5e0cfadc2cca31a74a65f2db0                                                                                                             |\n",
            "|NULL              |If you click 'Accept all', we and our partners, including 241 who are part of the IAB Transparency &amp; Consent Framework, will also store and/or access information on a device (in other words, use … [+714 chars]     |NULL                                                                                                                                                                                                                                                                |2025-05-14T11:40:28Z|{name -> Yahoo Entertainment, id -> NULL}         |Bitcoin May Be Headed Towards a 2021-Like Double Top                                                   |https://consent.yahoo.com/v2/collectConsent?sessionId=1_cc-session_52cf7227-cb2e-4b82-a977-9d9743b66880                       |NULL                                                                                                                                                                                         |\n",
            "+------------------+--------------------------------------------------------------------------------------------------------------------------------------------------------------------------------------------------------------------------+--------------------------------------------------------------------------------------------------------------------------------------------------------------------------------------------------------------------------------------------------------------------+--------------------+--------------------------------------------------+-------------------------------------------------------------------------------------------------------+------------------------------------------------------------------------------------------------------------------------------+---------------------------------------------------------------------------------------------------------------------------------------------------------------------------------------------+\n",
            "only showing top 10 rows\n",
            "\n"
          ]
        }
      ]
    },
    {
      "cell_type": "markdown",
      "source": [
        "we've loaded, combined, and previewed"
      ],
      "metadata": {
        "id": "6ZC-YcHbJcg1"
      }
    },
    {
      "cell_type": "code",
      "source": [
        "# Show column names\n",
        "print(\"Columns:\", combined_df.columns)\n",
        "\n",
        "# Show data types and structure\n",
        "combined_df.printSchema()"
      ],
      "metadata": {
        "colab": {
          "base_uri": "https://localhost:8080/"
        },
        "id": "574QKkGDJeLx",
        "outputId": "4157f2f5-919b-4d5f-8ef0-5256a31d014f"
      },
      "execution_count": null,
      "outputs": [
        {
          "output_type": "stream",
          "name": "stdout",
          "text": [
            "Columns: ['author', 'content', 'description', 'publishedAt', 'source', 'title', 'url', 'urlToImage']\n",
            "root\n",
            " |-- author: string (nullable = true)\n",
            " |-- content: string (nullable = true)\n",
            " |-- description: string (nullable = true)\n",
            " |-- publishedAt: string (nullable = true)\n",
            " |-- source: map (nullable = true)\n",
            " |    |-- key: string\n",
            " |    |-- value: string (valueContainsNull = true)\n",
            " |-- title: string (nullable = true)\n",
            " |-- url: string (nullable = true)\n",
            " |-- urlToImage: string (nullable = true)\n",
            "\n"
          ]
        }
      ]
    },
    {
      "cell_type": "code",
      "source": [
        "from pyspark.sql.functions import col, lower, regexp_replace\n",
        "\n",
        "# Clean title, description, and content\n",
        "cleaned_df = combined_df.withColumn(\"clean_description\", lower(regexp_replace(col(\"description\"), \"[^a-zA-Z0-9\\s.,!?]\", \"\")))\\\n",
        "    .withColumn(\"clean_description\", lower(regexp_replace(col(\"description\"), \"[^a-zA-Z0-9\\s]\", \"\"))) \\\n",
        "    .withColumn(\"clean_content\", lower(regexp_replace(col(\"content\"), \"[^a-zA-Z0-9\\s]\", \"\")))"
      ],
      "metadata": {
        "id": "-uAg0pHOyIk6"
      },
      "execution_count": null,
      "outputs": []
    },
    {
      "cell_type": "markdown",
      "source": [
        "🔹 Why? To remove Arabic or other-language articles so your sentiment results are correct.\n"
      ],
      "metadata": {
        "id": "0aXCPbkxccGx"
      }
    },
    {
      "cell_type": "code",
      "source": [
        "# Drop rows with empty or null clean_description\n",
        "cleaned_df = cleaned_df.filter(col(\"clean_description\").isNotNull() & (col(\"clean_description\") != \"\"))"
      ],
      "metadata": {
        "id": "1o3wPja-fgSc"
      },
      "execution_count": null,
      "outputs": []
    },
    {
      "cell_type": "code",
      "source": [
        "from pyspark.sql.functions import udf, col\n",
        "from pyspark.sql.types import StringType\n",
        "# UDF for language detection\n",
        "def detect_language(text):\n",
        "    try:\n",
        "        return detect(text)\n",
        "    except:\n",
        "        return \"unknown\"\n",
        "\n",
        "detect_language_udf = udf(detect_language, StringType())\n",
        "cleaned_df = cleaned_df.withColumn(\"lang\", detect_language_udf(col(\"clean_description\")))"
      ],
      "metadata": {
        "id": "FX12jOIZfwG0"
      },
      "execution_count": null,
      "outputs": []
    },
    {
      "cell_type": "code",
      "source": [
        "# Cache the DataFrame here to save the detected languages results in memory\n",
        "cleaned_df = cleaned_df.cache()"
      ],
      "metadata": {
        "id": "iXqiom4CkZxx"
      },
      "execution_count": null,
      "outputs": []
    },
    {
      "cell_type": "code",
      "source": [
        "print(\"🔹 Detected languages and their counts:\")\n",
        "cleaned_df.groupBy(\"lang\").count().show()"
      ],
      "metadata": {
        "colab": {
          "base_uri": "https://localhost:8080/"
        },
        "id": "VnHfiU7agLEH",
        "outputId": "25d77cd1-6cbc-478f-a55a-1412356d20de"
      },
      "execution_count": null,
      "outputs": [
        {
          "output_type": "stream",
          "name": "stdout",
          "text": [
            "🔹 Detected languages and their counts:\n",
            "+-------+-----+\n",
            "|   lang|count|\n",
            "+-------+-----+\n",
            "|     en|   57|\n",
            "|     de|   16|\n",
            "|     es|    7|\n",
            "|     fr|    4|\n",
            "|unknown|    1|\n",
            "+-------+-----+\n",
            "\n"
          ]
        }
      ]
    },
    {
      "cell_type": "code",
      "source": [
        "cleaned_df = cleaned_df.filter(col(\"lang\") == \"en\")"
      ],
      "metadata": {
        "id": "Qrd86z5bggsG"
      },
      "execution_count": null,
      "outputs": []
    },
    {
      "cell_type": "code",
      "source": [
        "total_after = cleaned_df.count()\n",
        "print(f\"🔹 Total articles after keeping only English: {total_after}\")\n",
        "cleaned_df.groupBy(\"lang\").count().show()"
      ],
      "metadata": {
        "colab": {
          "base_uri": "https://localhost:8080/"
        },
        "id": "fCUdGlrRg0S8",
        "outputId": "b4d711ab-66bc-4985-8b11-76f526d7e502"
      },
      "execution_count": null,
      "outputs": [
        {
          "output_type": "stream",
          "name": "stdout",
          "text": [
            "🔹 Total articles after keeping only English: 57\n",
            "+----+-----+\n",
            "|lang|count|\n",
            "+----+-----+\n",
            "|  en|   57|\n",
            "+----+-----+\n",
            "\n"
          ]
        }
      ]
    },
    {
      "cell_type": "code",
      "source": [
        "print(\"Columns:\", cleaned_df.columns)\n",
        "cleaned_df.select(\"title\", \"description\", \"clean_description\",\"lang\").show(5, truncate=False)"
      ],
      "metadata": {
        "colab": {
          "base_uri": "https://localhost:8080/"
        },
        "id": "Wv9eU1UeyiW0",
        "outputId": "f17b96f6-edcc-4e0c-85df-833597f022a8"
      },
      "execution_count": null,
      "outputs": [
        {
          "output_type": "stream",
          "name": "stdout",
          "text": [
            "Columns: ['author', 'content', 'description', 'publishedAt', 'source', 'title', 'url', 'urlToImage', 'clean_description', 'clean_content', 'lang']\n",
            "+-------------------------------------------------------------------------------------------------------+--------------------------------------------------------------------------------------------------------------------------------------------------------------------------------------------------------------------------------------------------------------------+-------------------------------------------------------------------------------------------------------------------------------------------------------------------------------------------------------------------------------------------------------------+----+\n",
            "|title                                                                                                  |description                                                                                                                                                                                                                                                         |clean_description                                                                                                                                                                                                                                            |lang|\n",
            "+-------------------------------------------------------------------------------------------------------+--------------------------------------------------------------------------------------------------------------------------------------------------------------------------------------------------------------------------------------------------------------------+-------------------------------------------------------------------------------------------------------------------------------------------------------------------------------------------------------------------------------------------------------------+----+\n",
            "|19-Year-Old to Plead Guilty to Hacking Charges After Data Breach of Millions of Schoolchildren         |A company with the personal information of tens of millions of children was breached last year.                                                                                                                                                                     |a company with the personal information of tens of millions of children was breached last year                                                                                                                                                               |en  |\n",
            "|Pakistan Allocates 2,000 Megawatts of Electricity To Bitcoin Mining, AI Data Centres                   |Pakistan will allocate 2,000 megawatts (MW) of electricity in the first phase of a national initiative to power bitcoin mining and AI data centres, its finance ministry said on Sunday. The allocation is part of Islamabad's plans to use its surplus electricity…|pakistan will allocate 2000 megawatts mw of electricity in the first phase of a national initiative to power bitcoin mining and ai data centres its finance ministry said on sunday the allocation is part of islamabads plans to use its surplus electricity|en  |\n",
            "|Bitcoin price holds above $102,000 as BlackRock leads fund inflows                                     |Bitcoin traded relatively flat on Thursday as institutional investors resumed allocations into US-based spot bitcoin exchange-traded funds on Wednesday.                                                                                                            |bitcoin traded relatively flat on thursday as institutional investors resumed allocations into usbased spot bitcoin exchangetraded funds on wednesday                                                                                                        |en  |\n",
            "|Jamie Dimon opens the door to bitcoin, warns against stagflation in wide-ranging remarks to investors  |The JPMorgan CEO said the bank will allow investors to buy bitcoin while warning against stagflation and sounding a hopeful note on regulations.                                                                                                                    |the jpmorgan ceo said the bank will allow investors to buy bitcoin while warning against stagflation and sounding a hopeful note on regulations                                                                                                              |en  |\n",
            "|El Salvador's Bitcoin Holdings Show $357 Million In Unrealized Profit As Bitcoin Closes At Record Highs|El Salvador's bold foray into Bitcoin (CRYPTO: BTC) has entered a new chapter of profitability. As of May 19, the country's BTC portfolio stands at...                                                                                                              |el salvadors bold foray into bitcoin crypto btc has entered a new chapter of profitability as of may 19 the countrys btc portfolio stands at                                                                                                                 |en  |\n",
            "+-------------------------------------------------------------------------------------------------------+--------------------------------------------------------------------------------------------------------------------------------------------------------------------------------------------------------------------------------------------------------------------+-------------------------------------------------------------------------------------------------------------------------------------------------------------------------------------------------------------------------------------------------------------+----+\n",
            "only showing top 5 rows\n",
            "\n"
          ]
        }
      ]
    },
    {
      "cell_type": "markdown",
      "source": [
        "# distilBERT"
      ],
      "metadata": {
        "id": "TyLYyg9d3xXG"
      }
    },
    {
      "cell_type": "code",
      "source": [
        "!pip install -q transformers\n",
        "from transformers import pipeline"
      ],
      "metadata": {
        "id": "L9jgaYoj3wcC"
      },
      "execution_count": null,
      "outputs": []
    },
    {
      "cell_type": "markdown",
      "source": [
        "loading distilbert model :"
      ],
      "metadata": {
        "id": "xbVvE6lA4GId"
      }
    },
    {
      "cell_type": "code",
      "source": [
        "from pyspark.sql.functions import when\n",
        "\n",
        "cleaned_df = cleaned_df.withColumn(\n",
        "    \"text_for_sentiment\",\n",
        "    when(col(\"clean_description\").isNotNull() & (col(\"clean_description\") != \"\"), col(\"clean_description\"))\n",
        "    .otherwise(col(\"description\"))\n",
        ")"
      ],
      "metadata": {
        "id": "hUUN85Xlfna8"
      },
      "execution_count": null,
      "outputs": []
    },
    {
      "cell_type": "code",
      "source": [
        "sentiment_analyzer = pipeline(\"sentiment-analysis\", model=\"distilbert-base-uncased-finetuned-sst-2-english\")"
      ],
      "metadata": {
        "colab": {
          "base_uri": "https://localhost:8080/",
          "height": 326,
          "referenced_widgets": [
            "d1d0a5d73c4c4d57aee61db076b6bb6f",
            "fb4b1a5532b84e979e7e1c541d5dace8",
            "b55e0436e7d5408096fdc7a623f71e4d",
            "fdab36ab6fc14e1fba4e9b3ce12c7514",
            "7014b02665184f52a7e486ad10d203c7",
            "4b7919bc5d404917934512adc80b017f",
            "8906fb46c89949e8a9dec843e83dce9f",
            "6a1101f6b00b4722a04467bba22422e5",
            "01ae15ef70ed40d2aed8ce6cb671f698",
            "c8ab826a8a424b9d9d2ccff34c2b4830",
            "649ada37b6014f4dbb4c5043e7ab4b0a",
            "772fc0d315764d96822516591f5bb908",
            "621aac44acc244dea481b67c83e5e490",
            "ae657adc36cb4a4a8ca6daeb189b746f",
            "720ed46b926c483cb0e344fb1a313bd8",
            "07375b88086b4d778c1a3af8dc26ebd7",
            "5b94d623a2974c2ba12b170c1436f9d5",
            "3688465f6ad44823949040f296f0cbfd",
            "e959b19d4d09441eaa25e32700d5fa07",
            "a4f7088694df464d8c27165bb17c8979",
            "cc47e34a0f4f4dbe82045288ed481626",
            "8a31713d191d4646aafd620d95e724f6",
            "6f67f1192420470c9257c7fef9eef250",
            "267c174c6218491b90f41b5876f8c7de",
            "797b51b7b32c4eec8641b9d10ac5e659",
            "34d0a8acefb14163a6470f9466f46eb2",
            "d2e36d2bc3a042cca5497028d9131bdd",
            "f025be3b458941918cb83c94fd98fd2e",
            "2aa5e6a347454890bc94c3f59a2003e2",
            "2465513c6424453e8540cd96bc8b0897",
            "ee7a9d2ee11c40fdaa5af1e523bdb319",
            "9ba8f3c03f4c4feea9ca72bc3e0021d5",
            "ec8fbda0263c4ff7b755f63855bcf7a2",
            "de42010531404a56afe3d298682b5b8b",
            "3a08962c1abf4c75ba8ef00074a3cf80",
            "88f634b0ae824c83b4a8261e75605f49",
            "ddacb24939774aa2a9b2a0d501ecb92d",
            "05a93165abfe4d98b665bf9bcd1148a7",
            "42df388ab8394b48a14a20cd7f6fea77",
            "662120c718ab4820955b0bbee84542ee",
            "f88d6282516c4aaf914d7e67bdbeea4d",
            "c1571e12d6844af181d0e4303a2e6097",
            "526b6fc8bffc4c3ca8fa1c12568655bd",
            "2320989b28d64121b02a1e81b6e5fb6a"
          ]
        },
        "id": "Q1jyofl536RZ",
        "outputId": "8b336633-8365-407b-bebc-83a481613738"
      },
      "execution_count": null,
      "outputs": [
        {
          "output_type": "stream",
          "name": "stderr",
          "text": [
            "/usr/local/lib/python3.11/dist-packages/huggingface_hub/utils/_auth.py:94: UserWarning: \n",
            "The secret `HF_TOKEN` does not exist in your Colab secrets.\n",
            "To authenticate with the Hugging Face Hub, create a token in your settings tab (https://huggingface.co/settings/tokens), set it as secret in your Google Colab and restart your session.\n",
            "You will be able to reuse this secret in all of your notebooks.\n",
            "Please note that authentication is recommended but still optional to access public models or datasets.\n",
            "  warnings.warn(\n"
          ]
        },
        {
          "output_type": "display_data",
          "data": {
            "text/plain": [
              "config.json:   0%|          | 0.00/629 [00:00<?, ?B/s]"
            ],
            "application/vnd.jupyter.widget-view+json": {
              "version_major": 2,
              "version_minor": 0,
              "model_id": "d1d0a5d73c4c4d57aee61db076b6bb6f"
            }
          },
          "metadata": {}
        },
        {
          "output_type": "stream",
          "name": "stderr",
          "text": [
            "Xet Storage is enabled for this repo, but the 'hf_xet' package is not installed. Falling back to regular HTTP download. For better performance, install the package with: `pip install huggingface_hub[hf_xet]` or `pip install hf_xet`\n",
            "WARNING:huggingface_hub.file_download:Xet Storage is enabled for this repo, but the 'hf_xet' package is not installed. Falling back to regular HTTP download. For better performance, install the package with: `pip install huggingface_hub[hf_xet]` or `pip install hf_xet`\n"
          ]
        },
        {
          "output_type": "display_data",
          "data": {
            "text/plain": [
              "model.safetensors:   0%|          | 0.00/268M [00:00<?, ?B/s]"
            ],
            "application/vnd.jupyter.widget-view+json": {
              "version_major": 2,
              "version_minor": 0,
              "model_id": "772fc0d315764d96822516591f5bb908"
            }
          },
          "metadata": {}
        },
        {
          "output_type": "display_data",
          "data": {
            "text/plain": [
              "tokenizer_config.json:   0%|          | 0.00/48.0 [00:00<?, ?B/s]"
            ],
            "application/vnd.jupyter.widget-view+json": {
              "version_major": 2,
              "version_minor": 0,
              "model_id": "6f67f1192420470c9257c7fef9eef250"
            }
          },
          "metadata": {}
        },
        {
          "output_type": "display_data",
          "data": {
            "text/plain": [
              "vocab.txt:   0%|          | 0.00/232k [00:00<?, ?B/s]"
            ],
            "application/vnd.jupyter.widget-view+json": {
              "version_major": 2,
              "version_minor": 0,
              "model_id": "de42010531404a56afe3d298682b5b8b"
            }
          },
          "metadata": {}
        },
        {
          "output_type": "stream",
          "name": "stderr",
          "text": [
            "Device set to use cpu\n"
          ]
        }
      ]
    },
    {
      "cell_type": "markdown",
      "source": [
        "defining the function to get sentiment"
      ],
      "metadata": {
        "id": "Ny-PSiA34MDs"
      }
    },
    {
      "cell_type": "code",
      "source": [
        "def get_sentiment(text):\n",
        "    if text:\n",
        "        try:\n",
        "            result = sentiment_analyzer(text[:512])[0]\n",
        "            return (result['label'], float(result['score']))\n",
        "        except:\n",
        "            return (\"UNKNOWN\", 0.0)\n",
        "    else:\n",
        "        return (\"EMPTY\", 0.0)"
      ],
      "metadata": {
        "id": "vzqRiLvG4Fll"
      },
      "execution_count": null,
      "outputs": []
    },
    {
      "cell_type": "markdown",
      "source": [
        "create UDFs and apply them"
      ],
      "metadata": {
        "id": "VeRolcVc4SYh"
      }
    },
    {
      "cell_type": "code",
      "source": [
        "from pyspark.sql.functions import udf\n",
        "from pyspark.sql.types import StringType, FloatType\n",
        "\n",
        "get_sentiment_label_udf = udf(lambda x: get_sentiment(x)[0], StringType())\n",
        "get_sentiment_score_udf = udf(lambda x: get_sentiment(x)[1], FloatType())\n",
        "\n",
        "sentiment_df = cleaned_df.withColumn(\"sentiment_label\", get_sentiment_label_udf(col(\"text_for_sentiment\"))) \\\n",
        "                         .withColumn(\"sentiment_score\", get_sentiment_score_udf(col(\"text_for_sentiment\")))"
      ],
      "metadata": {
        "id": "fmnhbX3T4OnP"
      },
      "execution_count": null,
      "outputs": []
    },
    {
      "cell_type": "code",
      "source": [
        "sentiment_df.select(\"title\", \"sentiment_label\", \"sentiment_score\").show(10, truncate=False)\n",
        "sentiment_df.groupBy(\"sentiment_label\").count().show()"
      ],
      "metadata": {
        "colab": {
          "base_uri": "https://localhost:8080/"
        },
        "id": "-VpTgpK14SB3",
        "outputId": "09e65f99-3f9e-498f-e67c-092d1fecb171"
      },
      "execution_count": null,
      "outputs": [
        {
          "output_type": "stream",
          "name": "stdout",
          "text": [
            "+-------------------------------------------------------------------------------------------------------+---------------+---------------+\n",
            "|title                                                                                                  |sentiment_label|sentiment_score|\n",
            "+-------------------------------------------------------------------------------------------------------+---------------+---------------+\n",
            "|19-Year-Old to Plead Guilty to Hacking Charges After Data Breach of Millions of Schoolchildren         |NEGATIVE       |0.9987644      |\n",
            "|Pakistan Allocates 2,000 Megawatts of Electricity To Bitcoin Mining, AI Data Centres                   |NEGATIVE       |0.9860968      |\n",
            "|Bitcoin price holds above $102,000 as BlackRock leads fund inflows                                     |NEGATIVE       |0.99922585     |\n",
            "|Jamie Dimon opens the door to bitcoin, warns against stagflation in wide-ranging remarks to investors  |POSITIVE       |0.9959202      |\n",
            "|El Salvador's Bitcoin Holdings Show $357 Million In Unrealized Profit As Bitcoin Closes At Record Highs|POSITIVE       |0.9838807      |\n",
            "|Markets reel after Trump resumes tariff talks with Canada                                              |POSITIVE       |0.8787683      |\n",
            "|The Significance of Jamie Dimon’s Reluctant Bitcoin Surrender                                          |POSITIVE       |0.9844952      |\n",
            "|Monero Likely Pumped 50% Due To Suspected $330 Million Bitcoin Theft                                   |NEGATIVE       |0.9985226      |\n",
            "|Wall Street's New Bitcoin Monster: Cantor's $4B Bet Could Dethrone Michael Saylor                      |NEGATIVE       |0.99716336     |\n",
            "|Bitcoin Mining Is No Longer Worth it                                                                   |NEGATIVE       |0.9836774      |\n",
            "+-------------------------------------------------------------------------------------------------------+---------------+---------------+\n",
            "only showing top 10 rows\n",
            "\n",
            "+---------------+-----+\n",
            "|sentiment_label|count|\n",
            "+---------------+-----+\n",
            "|       POSITIVE|   17|\n",
            "|       NEGATIVE|   40|\n",
            "+---------------+-----+\n",
            "\n"
          ]
        }
      ]
    },
    {
      "cell_type": "code",
      "source": [
        "sentiment_pd = sentiment_df.select(\"title\", \"description\",\"clean_description\", \"sentiment_label\", \"sentiment_score\").toPandas()\n",
        "sentiment_pd.to_csv(\"distilbert_sentimenttfinal.csv\", index=False)"
      ],
      "metadata": {
        "id": "MRyqkoyz5DPA"
      },
      "execution_count": null,
      "outputs": []
    },
    {
      "cell_type": "markdown",
      "source": [
        "# **finBERT**"
      ],
      "metadata": {
        "id": "u0USy8Hx5eCI"
      }
    },
    {
      "cell_type": "code",
      "source": [
        "from pyspark.sql import SparkSession\n",
        "from pyspark.sql.functions import col\n",
        "\n",
        "spark = SparkSession.builder.appName(\"finbert_session\").getOrCreate()\n",
        "\n",
        "rdd = cleaned_df.select(\"title\", \"clean_description\").rdd"
      ],
      "metadata": {
        "id": "PMFJngn0GMQt"
      },
      "execution_count": null,
      "outputs": []
    },
    {
      "cell_type": "code",
      "source": [
        "from transformers import AutoModelForSequenceClassification, AutoTokenizer\n",
        "import torch\n",
        "import numpy as np\n",
        "\n",
        "model_name = \"yiyanghkust/finbert-tone\"\n",
        "tokenizer = AutoTokenizer.from_pretrained(model_name)\n",
        "model = AutoModelForSequenceClassification.from_pretrained(model_name)\n",
        "\n",
        "def analyze_partition(partition):\n",
        "    results = []\n",
        "    for row in partition:\n",
        "        title = row['title']\n",
        "        text = row['clean_description']\n",
        "        if not text:\n",
        "            results.append((title, text, None, 0.0))\n",
        "            continue\n",
        "\n",
        "        inputs = tokenizer(text, return_tensors=\"pt\", truncation=True, padding=True, max_length=512)\n",
        "\n",
        "        with torch.no_grad():\n",
        "            outputs = model(**inputs)\n",
        "            scores = outputs.logits.softmax(dim=1).cpu().numpy()[0]\n",
        "\n",
        "        labels = [\"neutral\", \"positive\", \"negative\"]\n",
        "        max_idx = np.argmax(scores)\n",
        "        label = labels[max_idx]\n",
        "        score = float(scores[max_idx])\n",
        "\n",
        "        results.append((title, text, label, score))\n",
        "    return iter(results)"
      ],
      "metadata": {
        "colab": {
          "base_uri": "https://localhost:8080/",
          "height": 272,
          "referenced_widgets": [
            "7a258de182554999a15eaa890ad607e6",
            "b0dcf733a5944232b299241b0528c1f6",
            "9da66e04799a48f1a95f92e4b7cb69f9",
            "bd72340f178845289ddbd42064829ca5",
            "c30cc0eeb2154424b7b662c41d3562c0",
            "23b059228ba746649ce8e9c56bcc9ba2",
            "a2480b3f15b4442fbf178c89fa20df76",
            "d9521b44573b42a198e270549b657e77",
            "c83130ce2d924abeba41a826608f9d8f",
            "67d4779d2fd14a3cb2fa2620b66e803e",
            "e8c92b80e3404aed92c8437252e421eb",
            "8023bd5bc8a6434da1a56b32bbbe0fcb",
            "c4cd3e2359e342d9bef8afb9d099949a",
            "95030b3b8f6b4c63b5b3abbe937b9f08",
            "d3caeb2b5cd04bf1a79c376137d8fb30",
            "5137a2f844b64f88b817fd595c8c9527",
            "fb772fb798554a09a3b2370e65a0266c",
            "3d6e8170f94d40ae976023b885a5f818",
            "a80a266e5ee9481c96e660b392a2748b",
            "4a43a4a720514ff89b43ed76e7d35682",
            "f065fdf2577d4a5fa45013eb5bc778fe",
            "a79361371ee44447b4b7a954e10d0400",
            "5e7647e7bcc743bb875780ff67e61542",
            "6e90880de6804e59a878e8ff964c8247",
            "5557fb9211d043d388034e07d1192601",
            "01ad45f743d84a0391c9db43a6404f9d",
            "a065cfc79d25472688a16806a732c4f6",
            "5b82ad44350844189aaf8442188a1dde",
            "2495ba7091b540adacc9dd179c597af5",
            "ef3bd62258b643b9877038f158ef21b2",
            "f91f0bd78b934ada952904d4b0eb305d",
            "ab8687219a554614b7324d67d2c78f18",
            "b306103d2fe84e798ceba064cd856070",
            "b3a3e8ab503340e99909e8f62ef1dba3",
            "6bc2df2a5ebb4d2787b7cdf4bc066cb8",
            "3f55cf827257474588fc718aa74a853f",
            "28c7e5609b3547aab75b5ba4dbd2d74f",
            "a65769fe8a244ba3b1a99689a14284fb",
            "0c3e27df95e64683a94f5534b41dd5bf",
            "8c723dc3e45f4587a375cca86c669b03",
            "62d26d2f09274ecfb6b70e372cfabc86",
            "9691e97ad0fb493683fa2e3ed94abc5f",
            "f3bf3fdddf7740d791d9dc900d4bd483",
            "6b3dc0ecf24043678f88252695f05c22"
          ]
        },
        "id": "LvUgZawchf5q",
        "outputId": "b24e4df6-6359-4d9b-83ff-805b604c9c8a"
      },
      "execution_count": null,
      "outputs": [
        {
          "output_type": "stream",
          "name": "stderr",
          "text": [
            "/usr/local/lib/python3.11/dist-packages/huggingface_hub/utils/_auth.py:94: UserWarning: \n",
            "The secret `HF_TOKEN` does not exist in your Colab secrets.\n",
            "To authenticate with the Hugging Face Hub, create a token in your settings tab (https://huggingface.co/settings/tokens), set it as secret in your Google Colab and restart your session.\n",
            "You will be able to reuse this secret in all of your notebooks.\n",
            "Please note that authentication is recommended but still optional to access public models or datasets.\n",
            "  warnings.warn(\n"
          ]
        },
        {
          "output_type": "display_data",
          "data": {
            "text/plain": [
              "config.json:   0%|          | 0.00/533 [00:00<?, ?B/s]"
            ],
            "application/vnd.jupyter.widget-view+json": {
              "version_major": 2,
              "version_minor": 0,
              "model_id": "7a258de182554999a15eaa890ad607e6"
            }
          },
          "metadata": {}
        },
        {
          "output_type": "display_data",
          "data": {
            "text/plain": [
              "vocab.txt:   0%|          | 0.00/226k [00:00<?, ?B/s]"
            ],
            "application/vnd.jupyter.widget-view+json": {
              "version_major": 2,
              "version_minor": 0,
              "model_id": "8023bd5bc8a6434da1a56b32bbbe0fcb"
            }
          },
          "metadata": {}
        },
        {
          "output_type": "display_data",
          "data": {
            "text/plain": [
              "pytorch_model.bin:   0%|          | 0.00/439M [00:00<?, ?B/s]"
            ],
            "application/vnd.jupyter.widget-view+json": {
              "version_major": 2,
              "version_minor": 0,
              "model_id": "5e7647e7bcc743bb875780ff67e61542"
            }
          },
          "metadata": {}
        },
        {
          "output_type": "display_data",
          "data": {
            "text/plain": [
              "model.safetensors:   0%|          | 0.00/439M [00:00<?, ?B/s]"
            ],
            "application/vnd.jupyter.widget-view+json": {
              "version_major": 2,
              "version_minor": 0,
              "model_id": "b3a3e8ab503340e99909e8f62ef1dba3"
            }
          },
          "metadata": {}
        }
      ]
    },
    {
      "cell_type": "code",
      "source": [
        "result_rdd = rdd.mapPartitions(analyze_partition)"
      ],
      "metadata": {
        "id": "CKRTGMo0aU_B"
      },
      "execution_count": null,
      "outputs": []
    },
    {
      "cell_type": "code",
      "source": [
        "from pyspark.sql.types import StructType, StructField, StringType, FloatType\n",
        "\n",
        "schema = StructType([\n",
        "    StructField(\"title\", StringType(), True),\n",
        "    StructField(\"clean_description\", StringType(), True),\n",
        "    StructField(\"finbert_label\", StringType(), True),\n",
        "    StructField(\"finbert_score\", FloatType(), True),\n",
        "])\n",
        "\n",
        "finbert_df = spark.createDataFrame(result_rdd, schema=schema)"
      ],
      "metadata": {
        "id": "0_3-07rtK55B"
      },
      "execution_count": null,
      "outputs": []
    },
    {
      "cell_type": "code",
      "source": [
        "finbert_df.select(\"title\", \"finbert_label\", \"finbert_score\").show(30, truncate=False)"
      ],
      "metadata": {
        "colab": {
          "base_uri": "https://localhost:8080/"
        },
        "id": "weLWtgbqKURI",
        "outputId": "87f12fc6-91fb-43ca-e202-dee6e6e28352"
      },
      "execution_count": null,
      "outputs": [
        {
          "output_type": "stream",
          "name": "stdout",
          "text": [
            "+-------------------------------------------------------------------------------------------------------------------------------------------------------+-------------+-------------+\n",
            "|title                                                                                                                                                  |finbert_label|finbert_score|\n",
            "+-------------------------------------------------------------------------------------------------------------------------------------------------------+-------------+-------------+\n",
            "|19-Year-Old to Plead Guilty to Hacking Charges After Data Breach of Millions of Schoolchildren                                                         |neutral      |0.9969463    |\n",
            "|Pakistan Allocates 2,000 Megawatts of Electricity To Bitcoin Mining, AI Data Centres                                                                   |neutral      |0.9999757    |\n",
            "|Bitcoin price holds above $102,000 as BlackRock leads fund inflows                                                                                     |neutral      |0.9999635    |\n",
            "|Jamie Dimon opens the door to bitcoin, warns against stagflation in wide-ranging remarks to investors                                                  |neutral      |0.93998665   |\n",
            "|El Salvador's Bitcoin Holdings Show $357 Million In Unrealized Profit As Bitcoin Closes At Record Highs                                                |neutral      |0.97556597   |\n",
            "|Markets reel after Trump resumes tariff talks with Canada                                                                                              |neutral      |0.99999535   |\n",
            "|The Significance of Jamie Dimon’s Reluctant Bitcoin Surrender                                                                                          |neutral      |0.9986059    |\n",
            "|Monero Likely Pumped 50% Due To Suspected $330 Million Bitcoin Theft                                                                                   |neutral      |0.9209698    |\n",
            "|Wall Street's New Bitcoin Monster: Cantor's $4B Bet Could Dethrone Michael Saylor                                                                      |neutral      |0.9999658    |\n",
            "|Bitcoin Mining Is No Longer Worth it                                                                                                                   |neutral      |0.968348     |\n",
            "|Tech Company With Chinese Ties Wants to Buy $300 Million in $TRUMP Coin                                                                                |neutral      |0.9987079    |\n",
            "|Meta’s AI app is a nightmarish social feed                                                                                                             |neutral      |0.99992764   |\n",
            "|Raising ethics questions, top Trump meme coin investors to dine with president tonight                                                                 |neutral      |0.9999832    |\n",
            "|DOGE Aide Involved in Dismantling Consumer Bureau Owns Stock in Companies That Could Benefit From Cuts                                                 |negative     |0.85287565   |\n",
            "|Michael Saylor’s new advice? 'Sell a tooth if you must'                                                                                                |neutral      |0.9999764    |\n",
            "|Peter Schiff Predicts 'Fireworks,' Says Michael Saylor's Strategy Will See Unrealized Loss During Bitcoin's Next Bearish Dip                           |neutral      |0.9268539    |\n",
            "|This Bitcoin Encryption Comes from Renaissance Art and Math                                                                                            |neutral      |0.9999181    |\n",
            "|Trump Struggles to Silence His Ringing iPhone During Press Conference                                                                                  |neutral      |0.9999887    |\n",
            "|Govee’s Pixel Lights Make My Dumb Gamer Brain a Little Too Happy                                                                                       |neutral      |0.9790263    |\n",
            "|Dutch neobank Bunq launches crypto trading service                                                                                                     |neutral      |0.9999949    |\n",
            "|'Crypto king' turned NYC townhouse into torture chamber to gain partner Bitcoin                                                                        |neutral      |0.99992764   |\n",
            "|5 big crypto shifts no one’s talking about in 2025                                                                                                     |neutral      |0.99932015   |\n",
            "|China Reviews U.S. Proposal to Scale Down Tariffs                                                                                                      |positive     |0.68500555   |\n",
            "|Trump's first trade deal has Wall Street cheering. Not everyone is convinced.                                                                          |neutral      |0.9846423    |\n",
            "|Crypto billionaire Justin Sun showed off a $100K Trump watch after an exclusive dinner with the president — here's everything you should know about him|neutral      |0.9999975    |\n",
            "|Man tortured for weeks in NYC apartment, escapes, suspect arrested                                                                                     |neutral      |0.9998882    |\n",
            "|Why Crypto Leaders Are Feeling Optimistic About the Future: ‘The Crypto Revolution Is Happening’                                                       |positive     |0.73653966   |\n",
            "|Who Can Stop Crypto Now?                                                                                                                               |negative     |0.99095964   |\n",
            "|Forget Dogecoin And Shiba Inu — Crypto Analyst Sees This Coin Surging 100%                                                                             |neutral      |0.888998     |\n",
            "|Bitcoin is back above $100,000                                                                                                                         |positive     |0.99997926   |\n",
            "+-------------------------------------------------------------------------------------------------------------------------------------------------------+-------------+-------------+\n",
            "only showing top 30 rows\n",
            "\n"
          ]
        }
      ]
    },
    {
      "cell_type": "markdown",
      "source": [
        "# comparison"
      ],
      "metadata": {
        "id": "PySMhIc0lOTn"
      }
    },
    {
      "cell_type": "code",
      "source": [
        "from pyspark.sql.functions import col\n",
        "\n",
        "sentiment_df = spark.read.option(\"header\", \"true\").csv(\"distilbert_sentimenttfinal.csv\")\n",
        "sentiment_df = sentiment_df.withColumn(\"sentiment_score\", col(\"sentiment_score\").cast(\"float\"))"
      ],
      "metadata": {
        "id": "Xcc3kQzjbaqP"
      },
      "execution_count": null,
      "outputs": []
    },
    {
      "cell_type": "code",
      "source": [
        "BERTs = sentiment_df.join(\n",
        "    finbert_df.select(\"title\", \"finbert_label\", \"finbert_score\"),\n",
        "    on=\"title\",\n",
        "    how=\"inner\"\n",
        ")"
      ],
      "metadata": {
        "id": "HbMEQPMOa8F-"
      },
      "execution_count": null,
      "outputs": []
    },
    {
      "cell_type": "code",
      "source": [
        "BERTs.select(\"title\", \"sentiment_label\", \"sentiment_score\", \"finbert_label\", \"finbert_score\").show(20, truncate=False)"
      ],
      "metadata": {
        "colab": {
          "base_uri": "https://localhost:8080/"
        },
        "id": "z-2c7ByPbxns",
        "outputId": "c936c1f3-380c-4096-a0b8-7c8cc3559037"
      },
      "execution_count": null,
      "outputs": [
        {
          "output_type": "stream",
          "name": "stdout",
          "text": [
            "+----------------------------------------------------------------------------------------------------------------------------+---------------+---------------+-------------+-------------+\n",
            "|title                                                                                                                       |sentiment_label|sentiment_score|finbert_label|finbert_score|\n",
            "+----------------------------------------------------------------------------------------------------------------------------+---------------+---------------+-------------+-------------+\n",
            "|19-Year-Old to Plead Guilty to Hacking Charges After Data Breach of Millions of Schoolchildren                              |NEGATIVE       |0.9987644      |neutral      |0.9969463    |\n",
            "|Pakistan Allocates 2,000 Megawatts of Electricity To Bitcoin Mining, AI Data Centres                                        |NEGATIVE       |0.9860968      |neutral      |0.9999757    |\n",
            "|Bitcoin price holds above $102,000 as BlackRock leads fund inflows                                                          |NEGATIVE       |0.99922585     |neutral      |0.9999635    |\n",
            "|Jamie Dimon opens the door to bitcoin, warns against stagflation in wide-ranging remarks to investors                       |POSITIVE       |0.9959202      |neutral      |0.93998665   |\n",
            "|El Salvador's Bitcoin Holdings Show $357 Million In Unrealized Profit As Bitcoin Closes At Record Highs                     |POSITIVE       |0.9838807      |neutral      |0.97556597   |\n",
            "|Markets reel after Trump resumes tariff talks with Canada                                                                   |POSITIVE       |0.8787683      |neutral      |0.99999535   |\n",
            "|The Significance of Jamie Dimon’s Reluctant Bitcoin Surrender                                                               |POSITIVE       |0.9844952      |neutral      |0.9986059    |\n",
            "|Monero Likely Pumped 50% Due To Suspected $330 Million Bitcoin Theft                                                        |NEGATIVE       |0.9985226      |neutral      |0.9209698    |\n",
            "|Wall Street's New Bitcoin Monster: Cantor's $4B Bet Could Dethrone Michael Saylor                                           |NEGATIVE       |0.99716336     |neutral      |0.9999658    |\n",
            "|Bitcoin Mining Is No Longer Worth it                                                                                        |NEGATIVE       |0.9836774      |neutral      |0.968348     |\n",
            "|Tech Company With Chinese Ties Wants to Buy $300 Million in $TRUMP Coin                                                     |NEGATIVE       |0.9935169      |neutral      |0.9987079    |\n",
            "|Meta’s AI app is a nightmarish social feed                                                                                  |NEGATIVE       |0.95703065     |neutral      |0.99992764   |\n",
            "|Raising ethics questions, top Trump meme coin investors to dine with president tonight                                      |NEGATIVE       |0.9620576      |neutral      |0.9999832    |\n",
            "|DOGE Aide Involved in Dismantling Consumer Bureau Owns Stock in Companies That Could Benefit From Cuts                      |NEGATIVE       |0.98371154     |negative     |0.85287565   |\n",
            "|Michael Saylor’s new advice? 'Sell a tooth if you must'                                                                     |NEGATIVE       |0.59042066     |neutral      |0.9999764    |\n",
            "|Peter Schiff Predicts 'Fireworks,' Says Michael Saylor's Strategy Will See Unrealized Loss During Bitcoin's Next Bearish Dip|NEGATIVE       |0.9995789      |neutral      |0.9268539    |\n",
            "|This Bitcoin Encryption Comes from Renaissance Art and Math                                                                 |POSITIVE       |0.99128526     |neutral      |0.9999181    |\n",
            "|Trump Struggles to Silence His Ringing iPhone During Press Conference                                                       |NEGATIVE       |0.99250424     |neutral      |0.9999887    |\n",
            "|Govee’s Pixel Lights Make My Dumb Gamer Brain a Little Too Happy                                                            |NEGATIVE       |0.9989881      |neutral      |0.9790263    |\n",
            "|Dutch neobank Bunq launches crypto trading service                                                                          |POSITIVE       |0.99051887     |neutral      |0.9999949    |\n",
            "+----------------------------------------------------------------------------------------------------------------------------+---------------+---------------+-------------+-------------+\n",
            "only showing top 20 rows\n",
            "\n"
          ]
        }
      ]
    },
    {
      "cell_type": "code",
      "source": [
        "import matplotlib.pyplot as plt\n",
        "\n",
        "df = BERTs.toPandas()\n",
        "valid_labels = ['positive', 'neutral', 'negative']\n",
        "\n",
        "df['sentiment_label'] = df['sentiment_label'].astype(str).str.lower()\n",
        "df['finbert_label'] = df['finbert_label'].astype(str).str.lower()\n",
        "\n",
        "df_clean = df[df['sentiment_label'].isin(valid_labels) & df['finbert_label'].isin(valid_labels)]\n",
        "\n",
        "distil_counts = df_clean['sentiment_label'].value_counts()\n",
        "finbert_counts = df_clean['finbert_label'].value_counts()\n",
        "\n",
        "labels = ['positive', 'neutral', 'negative']\n",
        "distil_vals = [distil_counts.get(label, 0) for label in labels]\n",
        "finbert_vals = [finbert_counts.get(label, 0) for label in labels]\n",
        "\n",
        "x = range(len(labels))\n",
        "width = 0.35\n",
        "\n",
        "plt.figure(figsize=(8, 5))\n",
        "plt.bar(x, distil_vals, width=width, label='DistilBERT', color='skyblue')\n",
        "plt.bar([p + width for p in x], finbert_vals, width=width, label='FinBERT', color='orange')\n",
        "\n",
        "plt.xticks([p + width/2 for p in x], labels)\n",
        "plt.ylabel(\"Number of Predictions\")\n",
        "plt.title(\"Sentiment Comparison: DistilBERT vs FinBERT\")\n",
        "plt.legend()\n",
        "plt.tight_layout()\n",
        "plt.show()\n"
      ],
      "metadata": {
        "colab": {
          "base_uri": "https://localhost:8080/",
          "height": 507
        },
        "id": "FXW-yHUtl3IH",
        "outputId": "574ea71e-cf74-446b-e943-882132011726"
      },
      "execution_count": null,
      "outputs": [
        {
          "output_type": "display_data",
          "data": {
            "text/plain": [
              "<Figure size 800x500 with 1 Axes>"
            ],
            "image/png": "[encoded data removed]"
          },
          "metadata": {}
        }
      ]
    },
    {
      "cell_type": "markdown",
      "source": [
        "# firebase\n"
      ],
      "metadata": {
        "id": "vOnjguRFVGXo"
      }
    },
    {
      "cell_type": "code",
      "source": [
        "for label in [\"positive\", \"neutral\", \"negative\"]:\n",
        "    print(f\"\\n=== {label.upper()} Examples ===\")\n",
        "    samples = BERTs.filter(col(\"finbert_label\") == label).limit(3).collect()\n",
        "    if samples:\n",
        "        for row in samples:\n",
        "            print(f\"\\nTitle: {row.title}\\nDistilBERT: {row.sentiment_label} ({row.sentiment_score:.2f})\\nFinBERT: {row.finbert_label} ({row.finbert_score:.2f})\")\n",
        "    else:\n",
        "        print(f\"No {label} examples found\")"
      ],
      "metadata": {
        "colab": {
          "base_uri": "https://localhost:8080/"
        },
        "id": "NdMrygUERzxu",
        "outputId": "126dedff-55df-4453-a2a5-ef3a908dd353"
      },
      "execution_count": null,
      "outputs": [
        {
          "output_type": "stream",
          "name": "stdout",
          "text": [
            "\n",
            "=== POSITIVE Examples ===\n",
            "\n",
            "Title: China Reviews U.S. Proposal to Scale Down Tariffs\n",
            "DistilBERT: NEGATIVE (0.56)\n",
            "FinBERT: positive (0.69)\n",
            "\n",
            "Title: Why Crypto Leaders Are Feeling Optimistic About the Future: ‘The Crypto Revolution Is Happening’\n",
            "DistilBERT: NEGATIVE (0.97)\n",
            "FinBERT: positive (0.74)\n",
            "\n",
            "Title: Bitcoin is back above $100,000\n",
            "DistilBERT: POSITIVE (0.99)\n",
            "FinBERT: positive (1.00)\n",
            "\n",
            "=== NEUTRAL Examples ===\n",
            "\n",
            "Title: 19-Year-Old to Plead Guilty to Hacking Charges After Data Breach of Millions of Schoolchildren\n",
            "DistilBERT: NEGATIVE (1.00)\n",
            "FinBERT: neutral (1.00)\n",
            "\n",
            "Title: Pakistan Allocates 2,000 Megawatts of Electricity To Bitcoin Mining, AI Data Centres\n",
            "DistilBERT: NEGATIVE (0.99)\n",
            "FinBERT: neutral (1.00)\n",
            "\n",
            "Title: Bitcoin price holds above $102,000 as BlackRock leads fund inflows\n",
            "DistilBERT: NEGATIVE (1.00)\n",
            "FinBERT: neutral (1.00)\n",
            "\n",
            "=== NEGATIVE Examples ===\n",
            "\n",
            "Title: DOGE Aide Involved in Dismantling Consumer Bureau Owns Stock in Companies That Could Benefit From Cuts\n",
            "DistilBERT: NEGATIVE (0.98)\n",
            "FinBERT: negative (0.85)\n",
            "\n",
            "Title: Who Can Stop Crypto Now?\n",
            "DistilBERT: NEGATIVE (1.00)\n",
            "FinBERT: negative (0.99)\n",
            "\n",
            "Title: Jamie Dimon says JPMorgan will let customers buy Bitcoin\n",
            "DistilBERT: NEGATIVE (0.90)\n",
            "FinBERT: negative (1.00)\n"
          ]
        }
      ]
    },
    {
      "cell_type": "code",
      "source": [
        "docs = db.collection(\"news_analysis\").get()\n",
        "print(f\"Total documents: {len(docs)}\")"
      ],
      "metadata": {
        "colab": {
          "base_uri": "https://localhost:8080/"
        },
        "id": "Jx_EmMtVUGFz",
        "outputId": "25cf493b-240c-400c-e65e-fafdfb56e0b3"
      },
      "execution_count": null,
      "outputs": [
        {
          "output_type": "stream",
          "name": "stdout",
          "text": [
            "Total documents: 3\n"
          ]
        }
      ]
    },
    {
      "cell_type": "code",
      "source": [
        "from datetime import datetime\n",
        "\n",
        "test_data = {\n",
        "    \"title\": f\"TEST at {datetime.now().strftime('%H:%M:%S')}\",\n",
        "    \"sentiment_label\": \"POSITIVE\",\n",
        "    \"sentiment_score\": 0.95,\n",
        "    \"timestamp\": firestore.SERVER_TIMESTAMP\n",
        "}\n",
        "\n",
        "try:\n",
        "    db.collection(\"news_analysis\").document(f\"test_{datetime.now().timestamp()}\").set(test_data)\n",
        "    print(\"✅ New test document added\")\n",
        "except Exception as e:\n",
        "    print(f\"❌ Write failed: {str(e)}\")"
      ],
      "metadata": {
        "colab": {
          "base_uri": "https://localhost:8080/"
        },
        "id": "LjSq1zXQUP1e",
        "outputId": "6bda34d4-c31f-4b87-ef4a-f3250bd3d594"
      },
      "execution_count": null,
      "outputs": [
        {
          "output_type": "stream",
          "name": "stdout",
          "text": [
            "✅ New test document added\n"
          ]
        }
      ]
    },
    {
      "cell_type": "code",
      "source": [
        "print(f\"Articles to process: {sentiment_df.count()}\")  # Should match your NewsAPI fetch count"
      ],
      "metadata": {
        "colab": {
          "base_uri": "https://localhost:8080/"
        },
        "id": "aqEjj3jTUb6o",
        "outputId": "dec4a40f-f6c1-4341-c1f3-2fbfddd72f44"
      },
      "execution_count": null,
      "outputs": [
        {
          "output_type": "stream",
          "name": "stdout",
          "text": [
            "Articles to process: 69\n"
          ]
        }
      ]
    },
    {
      "cell_type": "code",
      "source": [
        "sentiment_df.select(\"title\", \"sentiment_label\").show(5, truncate=False)"
      ],
      "metadata": {
        "colab": {
          "base_uri": "https://localhost:8080/"
        },
        "id": "1QIgg8f8UeqX",
        "outputId": "dc9ae5bd-c112-493a-e5a3-babd8b0bcd8f"
      },
      "execution_count": null,
      "outputs": [
        {
          "output_type": "stream",
          "name": "stdout",
          "text": [
            "+-------------------------------------------------------------------------------------------------------+---------------+\n",
            "|title                                                                                                  |sentiment_label|\n",
            "+-------------------------------------------------------------------------------------------------------+---------------+\n",
            "|19-Year-Old to Plead Guilty to Hacking Charges After Data Breach of Millions of Schoolchildren         |NEGATIVE       |\n",
            "|Pakistan Allocates 2,000 Megawatts of Electricity To Bitcoin Mining, AI Data Centres                   |NEGATIVE       |\n",
            "|Bitcoin price holds above $102,000 as BlackRock leads fund inflows                                     |NEGATIVE       |\n",
            "|Jamie Dimon opens the door to bitcoin, warns against stagflation in wide-ranging remarks to investors  |POSITIVE       |\n",
            "|El Salvador's Bitcoin Holdings Show $357 Million In Unrealized Profit As Bitcoin Closes At Record Highs|POSITIVE       |\n",
            "+-------------------------------------------------------------------------------------------------------+---------------+\n",
            "only showing top 5 rows\n",
            "\n"
          ]
        }
      ]
    },
    {
      "cell_type": "code",
      "source": [
        "print(f\"Attempted to write {sentiment_df.count()} documents\")"
      ],
      "metadata": {
        "colab": {
          "base_uri": "https://localhost:8080/"
        },
        "id": "smiTQzBjUge4",
        "outputId": "7c633974-22ec-45a7-c752-2b6b6e675521"
      },
      "execution_count": null,
      "outputs": [
        {
          "output_type": "stream",
          "name": "stdout",
          "text": [
            "Attempted to write 69 documents\n"
          ]
        }
      ]
    },
    {
      "cell_type": "code",
      "source": [
        "for row in sentiment_df.collect():\n",
        "    try:\n",
        "        doc_ref = db.collection(\"news_analysis\").document()\n",
        "        doc_ref.set(row.asDict())\n",
        "        print(f\"Wrote: {row['title'][:50]}...\")  # Log each write\n",
        "    except Exception as e:\n",
        "        print(f\"Failed on {row['title'][:50]}...: {str(e)}\")"
      ],
      "metadata": {
        "colab": {
          "base_uri": "https://localhost:8080/"
        },
        "id": "tZCBUApeUjUo",
        "outputId": "511e0ba8-a328-4658-b2f7-fe6886e44317"
      },
      "execution_count": null,
      "outputs": [
        {
          "output_type": "stream",
          "name": "stdout",
          "text": [
            "Wrote: 19-Year-Old to Plead Guilty to Hacking Charges Aft...\n",
            "Wrote: Pakistan Allocates 2,000 Megawatts of Electricity ...\n",
            "Wrote: Bitcoin price holds above $102,000 as BlackRock le...\n",
            "Wrote: Jamie Dimon opens the door to bitcoin, warns again...\n",
            "Wrote: El Salvador's Bitcoin Holdings Show $357 Million I...\n",
            "Wrote: Markets reel after Trump resumes tariff talks with...\n",
            "Wrote: The Significance of Jamie Dimon’s Reluctant Bitcoi...\n",
            "Wrote: Monero Likely Pumped 50% Due To Suspected $330 Mil...\n",
            "Wrote: Wall Street's New Bitcoin Monster: Cantor's $4B Be...\n",
            "Wrote: Bitcoin Mining Is No Longer Worth it...\n",
            "Wrote: Tech Company With Chinese Ties Wants to Buy $300 M...\n",
            "Wrote: Meta’s AI app is a nightmarish social feed...\n",
            "Wrote: Raising ethics questions, top Trump meme coin inve...\n",
            "Wrote: DOGE Aide Involved in Dismantling Consumer Bureau ...\n",
            "Wrote: Michael Saylor’s new advice? 'Sell a tooth if you ...\n",
            "Wrote: Peter Schiff Predicts 'Fireworks,' Says Michael Sa...\n",
            "Wrote: This Bitcoin Encryption Comes from Renaissance Art...\n",
            "Wrote: Trump Struggles to Silence His Ringing iPhone Duri...\n",
            "Wrote: Govee’s Pixel Lights Make My Dumb Gamer Brain a Li...\n",
            "Wrote: Dutch neobank Bunq launches crypto trading service...\n",
            "Wrote: 'Crypto king' turned NYC townhouse into torture ch...\n",
            "Wrote: 5 big crypto shifts no one’s talking about in 2025...\n",
            "Wrote: China Reviews U.S. Proposal to Scale Down Tariffs...\n",
            "Wrote: Trump's first trade deal has Wall Street cheering....\n",
            "Wrote: Crypto billionaire Justin Sun showed off a $100K T...\n",
            "Wrote: Man tortured for weeks in NYC apartment, escapes, ...\n",
            "Wrote: Why Crypto Leaders Are Feeling Optimistic About th...\n",
            "Wrote: Who Can Stop Crypto Now?...\n",
            "Wrote: Forget Dogecoin And Shiba Inu — Crypto Analyst See...\n",
            "Wrote: Bitcoin is back above $100,000...\n",
            "Wrote: Trump sons' American Bitcoin to go public...\n",
            "Wrote: SEC SIM-swapper who Googled 'signs that the FBI is...\n",
            "Wrote: An Alabama man who SIM-swapped his way into the SE...\n",
            "Wrote: an alabama man who simswapped his way into the sec...\n",
            "Wrote: I used Govee's pixel display, and it is fabulous...\n",
            "Wrote: Bitcoin just hit a new record after a long crypto ...\n",
            "Wrote: Bitcoin mining is no longer profitable...\n",
            "Wrote: Coinbase buys Deribit for $2.9 billion...\n",
            "Wrote: Jamie Dimon says JPMorgan will let customers buy B...\n",
            "Wrote: ‘Buckle Up’—A Perfect Storm Is Suddenly Headed For...\n",
            "Wrote: ‘There Won’t Be A Dollar In 10 Years’—Billionaire ...\n",
            "Wrote: Bitcoin Price Suddenly Soars As Congress Predicted...\n",
            "Wrote: Cryptocurrency boss's daughter escapes kidnap gang...\n",
            "Wrote: JPMorgan Just Flipped On Bitcoin—Issues Huge New 2...\n",
            "Wrote: The Download: chaos at OpenAI, and the spa heated ...\n",
            "Wrote: Formal Verification And Bitcoin...\n",
            "Wrote: The Man Behind Bitcoin Pizza Day Spent More Bitcoi...\n",
            "Wrote: Traders are pouring into shares of a new bitcoin i...\n",
            "Wrote: Google Search's AI era comes into focus...\n",
            "Wrote: Democrats Just Handed Trump—and the Crypto Industr...\n",
            "Wrote: US teen to plead guilty to extortion attack agains...\n",
            "Wrote: A 19-year-old student has agreed to plead guilty t...\n",
            "Wrote: a 19yearold student has agreed to plead guilty to ...\n",
            "Wrote: Leak Reveals Mark Zuckerberg Is Quietly Plotting T...\n",
            "Wrote: The bitcoin price has rocketed to over $100...\n",
            "Wrote: the bitcoin price has rocketed to over 100000 per ...\n",
            "Wrote: A long shot options trade is wagering on bitcoin t...\n",
            "Wrote: How Low Can Bitcoin Go?...\n",
            "Wrote: Bitcoin tops $100,000 and Ethereum surges in banne...\n",
            "Wrote: Bitcoin Is Suddenly Surging As It Braces For A Hug...\n",
            "Wrote: Bitcoin's new high, bonds go bananas, and Coinbase...\n",
            "Wrote: More Americans Now Hold Bitcoin Than Gold, Report ...\n",
            "Wrote: -...\n",
            "Wrote: Americans may be leaning towards Bitcoin over gold...\n",
            "Wrote: -...\n",
            "Wrote: River boiled down the U.S.’s Bitcoin leanings …\"...\n",
            "Wrote: americans may be leaning towards bitcoin over gold...\n",
            "Wrote: river boiled down the uss bitcoin leanings \"...\n",
            "Wrote: JPMorgan will now let clients buy Bitcoin...\n"
          ]
        }
      ]
    },
    {
      "cell_type": "code",
      "source": [
        "import time\n",
        "for row in sentiment_df.collect():\n",
        "    doc_ref.set(row.asDict())\n",
        "    time.sleep(0.1)"
      ],
      "metadata": {
        "id": "bBQ6F1vtUpZv"
      },
      "execution_count": null,
      "outputs": []
    },
    {
      "cell_type": "code",
      "source": [
        "docs = db.collection(\"news_analysis\").get()\n",
        "print(\"\\n=== Current Firestore Documents ===\")\n",
        "for doc in docs:\n",
        "    data = doc.to_dict()\n",
        "    print(f\"\\nID: {doc.id}\\nTitle: {data.get('title', 'MISSING')}\\nTimestamp: {data.get('timestamp', 'MISSING')}\")"
      ],
      "metadata": {
        "colab": {
          "base_uri": "https://localhost:8080/"
        },
        "id": "fjW39ae3Uxw5",
        "outputId": "fb72ceeb-76f2-4bdd-917c-4726d68091d1"
      },
      "execution_count": null,
      "outputs": [
        {
          "output_type": "stream",
          "name": "stdout",
          "text": [
            "\n",
            "=== Current Firestore Documents ===\n",
            "\n",
            "ID: 01I0Jh6i6cgZYhUKv9Ff\n",
            "Title: China Reviews U.S. Proposal to Scale Down Tariffs\n",
            "Timestamp: MISSING\n",
            "\n",
            "ID: 0pDHelQ60guxu1RNgp3F\n",
            "Title: How Low Can Bitcoin Go?\n",
            "Timestamp: MISSING\n",
            "\n",
            "ID: 0py81NWep1ShxAaOaoIL\n",
            "Title: Pakistan Allocates 2,000 Megawatts of Electricity To Bitcoin Mining, AI Data Centres\n",
            "Timestamp: MISSING\n",
            "\n",
            "ID: 0rUXwttGyKNYgc1JS5K9\n",
            "Title: Markets reel after Trump resumes tariff talks with Canada\n",
            "Timestamp: MISSING\n",
            "\n",
            "ID: 2L1vXFfE9SJGEdSV6s2v\n",
            "Title: Cryptocurrency boss's daughter escapes kidnap gang in Paris street\n",
            "Timestamp: MISSING\n",
            "\n",
            "ID: 3SEjvBTQUQpuJ0XeMoUI\n",
            "Title: 'Crypto king' turned NYC townhouse into torture chamber to gain partner Bitcoin\n",
            "Timestamp: MISSING\n",
            "\n",
            "ID: 4tE0w2qu5yQvoEN9a1dq\n",
            "Title: Jamie Dimon opens the door to bitcoin, warns against stagflation in wide-ranging remarks to investors\n",
            "Timestamp: MISSING\n",
            "\n",
            "ID: 69zuHl8taJ4eb1UcU8iW\n",
            "Title: an alabama man who simswapped his way into the secs official x account enabling a fake etf announcement that briefly pumped bitcoin has been sentenced to 14 months in prison and three years of supervi\"\n",
            "Timestamp: MISSING\n",
            "\n",
            "ID: 6KpwOFrdNq4tF1IzK9wo\n",
            "Title: ‘Buckle Up’—A Perfect Storm Is Suddenly Headed For The Bitcoin Price And Crypto Market\n",
            "Timestamp: MISSING\n",
            "\n",
            "ID: 6dyb7SlhYaxNPqTyG8ZL\n",
            "Title: Leak Reveals Mark Zuckerberg Is Quietly Plotting To Blow Up The Bitcoin Price And Crypto Market\n",
            "Timestamp: MISSING\n",
            "\n",
            "ID: 6w9fE3FByboL0K9AYhLb\n",
            "Title: Why Crypto Leaders Are Feeling Optimistic About the Future: ‘The Crypto Revolution Is Happening’\n",
            "Timestamp: MISSING\n",
            "\n",
            "ID: 8h7qoMvTPvWOw1R1RvUu\n",
            "Title: americans may be leaning towards bitcoin over gold according to a report by bitcoin investment firm river\n",
            "Timestamp: MISSING\n",
            "\n",
            "ID: AVqAsimwRd0SvXtwyv2a\n",
            "Title: I used Govee's pixel display, and it is fabulous\n",
            "Timestamp: MISSING\n",
            "\n",
            "ID: C4eqn7d1xN6cdnBz0bbq\n",
            "Title: Jamie Dimon says JPMorgan will let customers buy Bitcoin\n",
            "Timestamp: MISSING\n",
            "\n",
            "ID: D9ewxntKy1RUjEeAMIZW\n",
            "Title: Who Can Stop Crypto Now?\n",
            "Timestamp: MISSING\n",
            "\n",
            "ID: ExN6jy5tMQMB5b2fb8CN\n",
            "Title: 5 big crypto shifts no one’s talking about in 2025\n",
            "Timestamp: MISSING\n",
            "\n",
            "ID: FDU52WgZyXgSW1A0Alg1\n",
            "Title: Govee’s Pixel Lights Make My Dumb Gamer Brain a Little Too Happy\n",
            "Timestamp: MISSING\n",
            "\n",
            "ID: Hvb6wwyAI3Mo7yZJ6NH9\n",
            "Title: Trump Struggles to Silence His Ringing iPhone During Press Conference\n",
            "Timestamp: MISSING\n",
            "\n",
            "ID: JzFTHwITCrbns57xhtee\n",
            "Title: Dutch neobank Bunq launches crypto trading service\n",
            "Timestamp: MISSING\n",
            "\n",
            "ID: K8bAwmwuVZP2rT7jYoe0\n",
            "Title: Trump sons' American Bitcoin to go public\n",
            "Timestamp: MISSING\n",
            "\n",
            "ID: KHyNElwkcMSQpTwY4Cmk\n",
            "Title: Bitcoin tops $100,000 and Ethereum surges in banner week for crypto\n",
            "Timestamp: MISSING\n",
            "\n",
            "ID: N8m76atnVF5PUU6xYPgl\n",
            "Title: Tech Company With Chinese Ties Wants to Buy $300 Million in $TRUMP Coin\n",
            "Timestamp: MISSING\n",
            "\n",
            "ID: NduF3UgboUXuDPAuPw2e\n",
            "Title: JPMorgan will now let clients buy Bitcoin\n",
            "Timestamp: MISSING\n",
            "\n",
            "ID: OAPAunKu3oC5GcVfMZi6\n",
            "Title: The bitcoin price has rocketed to over $100\n",
            "Timestamp: MISSING\n",
            "\n",
            "ID: Q52XrbR7b6ospqhNQbY0\n",
            "Title: the bitcoin price has rocketed to over 100000 per bitcoin up 30 from its april lows triggering a wave of bullish bitcoin pr\"\n",
            "Timestamp: MISSING\n",
            "\n",
            "ID: QTskYn5I0qYULAe0UosH\n",
            "Title: River boiled down the U.S.’s Bitcoin leanings …\"\n",
            "Timestamp: MISSING\n",
            "\n",
            "ID: QuEsFtGO3QfFP78Y9efT\n",
            "Title: Peter Schiff Predicts 'Fireworks,' Says Michael Saylor's Strategy Will See Unrealized Loss During Bitcoin's Next Bearish Dip\n",
            "Timestamp: MISSING\n",
            "\n",
            "ID: RzgoR1sFJx8hP20G0US4\n",
            "Title: Google Search's AI era comes into focus\n",
            "Timestamp: MISSING\n",
            "\n",
            "ID: S96iDo5dsPchCyP0uAqx\n",
            "Title: Bitcoin is back above $100,000\n",
            "Timestamp: MISSING\n",
            "\n",
            "ID: SpimpAN4EOkPe4U5kF2t\n",
            "Title: Bitcoin price holds above $102,000 as BlackRock leads fund inflows\n",
            "Timestamp: MISSING\n",
            "\n",
            "ID: SvUQWoNRNRclfxc1FBLx\n",
            "Title: US teen to plead guilty to extortion attack against PowerSchool\n",
            "Timestamp: MISSING\n",
            "\n",
            "ID: TCpuekwCCUqH82kbDCMr\n",
            "Title: ‘There Won’t Be A Dollar In 10 Years’—Billionaire Issues Shock ‘Infinity’ Bitcoin Price Prediction\n",
            "Timestamp: MISSING\n",
            "\n",
            "ID: TJJr2jePDFFjWmgpEAl7\n",
            "Title: A long shot options trade is wagering on bitcoin to hit $300,000 by the end of June\n",
            "Timestamp: MISSING\n",
            "\n",
            "ID: UhblUZ2LdXZ3Fdu1CnXH\n",
            "Title: Man tortured for weeks in NYC apartment, escapes, suspect arrested\n",
            "Timestamp: MISSING\n",
            "\n",
            "ID: WMfs3SrkFCAd2RbsnOVM\n",
            "Title: The Man Behind Bitcoin Pizza Day Spent More Bitcoin Than You Think\n",
            "Timestamp: MISSING\n",
            "\n",
            "ID: XEzpeeFbIzqI57yYv7XD\n",
            "Title: Trump's first trade deal has Wall Street cheering. Not everyone is convinced.\n",
            "Timestamp: MISSING\n",
            "\n",
            "ID: Y5lknlK7uMWWxYpm5jEc\n",
            "Title: DOGE Aide Involved in Dismantling Consumer Bureau Owns Stock in Companies That Could Benefit From Cuts\n",
            "Timestamp: MISSING\n",
            "\n",
            "ID: YA7FjaBvTMMBS5DwfC7e\n",
            "Title: 19-Year-Old to Plead Guilty to Hacking Charges After Data Breach of Millions of Schoolchildren\n",
            "Timestamp: MISSING\n",
            "\n",
            "ID: ZJSiO47nHQTEDknAfjWv\n",
            "Title: Monero Likely Pumped 50% Due To Suspected $330 Million Bitcoin Theft\n",
            "Timestamp: MISSING\n",
            "\n",
            "ID: etH0uhCUPWACN8rsjteH\n",
            "Title: Democrats Just Handed Trump—and the Crypto Industry—a Massive Win\n",
            "Timestamp: MISSING\n",
            "\n",
            "ID: foHuFoEkxwoX3SThLDZf\n",
            "Title: This Bitcoin Encryption Comes from Renaissance Art and Math\n",
            "Timestamp: MISSING\n",
            "\n",
            "ID: gMlyMOk3TAvktdTJrkEU\n",
            "Title: An Alabama man who SIM-swapped his way into the SEC's official X account\n",
            "Timestamp: MISSING\n",
            "\n",
            "ID: gQlnedCrwEpox13Y8fIP\n",
            "Title: Bitcoin just hit a new record after a long crypto slump\n",
            "Timestamp: MISSING\n",
            "\n",
            "ID: hG1FzgIXir8ogeZcyL8f\n",
            "Title: El Salvador's Bitcoin Holdings Show $357 Million In Unrealized Profit As Bitcoin Closes At Record Highs\n",
            "Timestamp: MISSING\n",
            "\n",
            "ID: iqWgYnyu2cJMPv572kod\n",
            "Title: Forget Dogecoin And Shiba Inu — Crypto Analyst Sees This Coin Surging 100%\n",
            "Timestamp: MISSING\n",
            "\n",
            "ID: j3PGoy0MPXB44LOpgygQ\n",
            "Title: Bitcoin Price Suddenly Soars As Congress Predicted To ‘Make History’\n",
            "Timestamp: MISSING\n",
            "\n",
            "ID: j8wFC9bFGFwlg01ztPx5\n",
            "Title: SEC SIM-swapper who Googled 'signs that the FBI is after you' put behind bars\n",
            "Timestamp: MISSING\n",
            "\n",
            "ID: jzHv3uJvFyTPTSfeFjm7\n",
            "Title: TEST: Bitcoin price update\n",
            "Timestamp: 2025-05-27 19:15:46\n",
            "\n",
            "ID: kfx5b3OsLO1EekspLOyV\n",
            "Title: a 19yearold student has agreed to plead guilty to hacking into the systems of two companies as part of an extortion scheme and the register has learned that one of the targets\"\n",
            "Timestamp: MISSING\n",
            "\n",
            "ID: kttc6mAxrww6yXz3BeRP\n",
            "Title: Wall Street's New Bitcoin Monster: Cantor's $4B Bet Could Dethrone Michael Saylor\n",
            "Timestamp: MISSING\n",
            "\n",
            "ID: lx4hkZLkrK7tTHUnskQb\n",
            "Title: -\n",
            "Timestamp: MISSING\n",
            "\n",
            "ID: mi6UkB9ykiizgc8WFkG4\n",
            "Title: JPMorgan Just Flipped On Bitcoin—Issues Huge New 2025 Price Prediction\n",
            "Timestamp: MISSING\n",
            "\n",
            "ID: msh6yaB0XqFlnq5Iu5ar\n",
            "Title: The Significance of Jamie Dimon’s Reluctant Bitcoin Surrender\n",
            "Timestamp: MISSING\n",
            "\n",
            "ID: nXA31Fq8uM6riRSFAUj6\n",
            "Title: Bitcoin mining is no longer profitable\n",
            "Timestamp: MISSING\n",
            "\n",
            "ID: ntYlQL8Iz2TjBJGEoKUy\n",
            "Title: The Download: chaos at OpenAI, and the spa heated by bitcoin mining\n",
            "Timestamp: MISSING\n",
            "\n",
            "ID: p591RtKhBvGHCu9ygqH0\n",
            "Title: Americans may be leaning towards Bitcoin over gold\n",
            "Timestamp: MISSING\n",
            "\n",
            "ID: qAFYQRzVOkZxy6mOnMBE\n",
            "Title: TEST: Bitcoin price update\n",
            "Timestamp: 2025-05-27 19:29:26\n",
            "\n",
            "ID: qKwslzii9OPnrS4nmPwY\n",
            "Title: Bitcoin Is Suddenly Surging As It Braces For A Huge $6 Trillion Price Earthquake\n",
            "Timestamp: MISSING\n",
            "\n",
            "ID: qMiILYNuPL4OBpphaHet\n",
            "Title: Traders are pouring into shares of a new bitcoin investment that's up almost 500% in a week\n",
            "Timestamp: MISSING\n",
            "\n",
            "ID: r1m2lkQYzLwDyYvLkLfm\n",
            "Title: More Americans Now Hold Bitcoin Than Gold, Report Says\n",
            "Timestamp: MISSING\n",
            "\n",
            "ID: s4UNScia0xr4oSjLHCgJ\n",
            "Title: Crypto billionaire Justin Sun showed off a $100K Trump watch after an exclusive dinner with the president — here's everything you should know about him\n",
            "Timestamp: MISSING\n",
            "\n",
            "ID: sNqNl1jtbzsMgD4o23KC\n",
            "Title: Raising ethics questions, top Trump meme coin investors to dine with president tonight\n",
            "Timestamp: MISSING\n",
            "\n",
            "ID: sYxm6Sm6W3FhpJghBveW\n",
            "Title: Bitcoin Mining Is No Longer Worth it\n",
            "Timestamp: MISSING\n",
            "\n",
            "ID: sxoVZFP7yx2Mv5n9NwYR\n",
            "Title: Meta’s AI app is a nightmarish social feed\n",
            "Timestamp: MISSING\n",
            "\n",
            "ID: test_1748375766.350222\n",
            "Title: TEST at 19:56:06\n",
            "Timestamp: 2025-05-27 19:56:06.393000+00:00\n",
            "\n",
            "ID: test_doc\n",
            "Title: Test News\n",
            "Timestamp: 2025-05-27 19:29:52.979000+00:00\n",
            "\n",
            "ID: txeiBML5YYPiPQYDcQoY\n",
            "Title: Formal Verification And Bitcoin\n",
            "Timestamp: MISSING\n",
            "\n",
            "ID: uKhyYHojONHMiIJQ68HB\n",
            "Title: Michael Saylor’s new advice? 'Sell a tooth if you must'\n",
            "Timestamp: MISSING\n",
            "\n",
            "ID: uNe0Li6BWE4EwdDO1TrN\n",
            "Title: river boiled down the uss bitcoin leanings \"\n",
            "Timestamp: MISSING\n",
            "\n",
            "ID: vgFy5kxQ24PmdfGNgc0g\n",
            "Title: A 19-year-old student has agreed to plead guilty to hacking into the systems of two companies as part of an extortion scheme\n",
            "Timestamp: MISSING\n",
            "\n",
            "ID: w6LBwZPbJOxJ9T7La7aS\n",
            "Title: -\n",
            "Timestamp: MISSING\n",
            "\n",
            "ID: xZA6BwSGmx9WZdJiVxex\n",
            "Title: Coinbase buys Deribit for $2.9 billion\n",
            "Timestamp: MISSING\n",
            "\n",
            "ID: z7QAferh7rWRMjBpzkh9\n",
            "Title: Bitcoin's new high, bonds go bananas, and Coinbase joins the S&P 500: Markets news roundup\n",
            "Timestamp: MISSING\n"
          ]
        }
      ]
    },
    {
      "cell_type": "code",
      "source": [
        "db.collection(\"news_analysis\").document(\"test.doc\").delete()"
      ],
      "metadata": {
        "colab": {
          "base_uri": "https://localhost:8080/"
        },
        "id": "H2AdbVx2VC0O",
        "outputId": "fa876da3-a845-4108-adf9-12ea952f7a0d"
      },
      "execution_count": null,
      "outputs": [
        {
          "output_type": "execute_result",
          "data": {
            "text/plain": [
              "DatetimeWithNanoseconds(2025, 5, 27, 19, 59, 35, 179216, tzinfo=datetime.timezone.utc)"
            ]
          },
          "metadata": {},
          "execution_count": 46
        }
      ]
    },
    {
      "cell_type": "code",
      "source": [
        "docs = db.collection(\"news_analysis\")\\\n",
        "         .order_by(\"timestamp\", direction=firestore.Query.DESCENDING)\\\n",
        "         .limit(5)\\\n",
        "         .get()\n",
        "for doc in docs:\n",
        "    print(doc.to_dict())"
      ],
      "metadata": {
        "colab": {
          "base_uri": "https://localhost:8080/"
        },
        "id": "QwZHTY9nWPis",
        "outputId": "66f0c5c9-35ec-499d-f1f4-1444cd388bb4"
      },
      "execution_count": null,
      "outputs": [
        {
          "output_type": "stream",
          "name": "stdout",
          "text": [
            "{'sentiment_score': 0.87, 'title': 'TEST: Bitcoin price update', 'timestamp': '2025-05-27 19:29:26', 'sentiment_label': 'POSITIVE', 'source': 'automated_script'}\n",
            "{'sentiment_score': 0.87, 'title': 'TEST: Bitcoin price update', 'timestamp': '2025-05-27 19:15:46', 'sentiment_label': 'POSITIVE', 'source': 'automated_script'}\n",
            "{'sentiment_score': 0.95, 'title': 'TEST at 19:56:06', 'timestamp': DatetimeWithNanoseconds(2025, 5, 27, 19, 56, 6, 393000, tzinfo=datetime.timezone.utc), 'sentiment_label': 'POSITIVE'}\n",
            "{'sentiment_score': 0.5, 'title': 'Test News', 'timestamp': DatetimeWithNanoseconds(2025, 5, 27, 19, 29, 52, 979000, tzinfo=datetime.timezone.utc), 'sentiment_label': 'NEUTRAL'}\n"
          ]
        }
      ]
    },
    {
      "cell_type": "code",
      "source": [
        "with open(\"requirements.txt\", \"w\") as f:\n",
        "    f.write(\"transformers\\n\")\n",
        "    f.write(\"torch\\n\")\n",
        "    f.write(\"pyspark\\n\")\n",
        "    f.write(\"langdetect\\n\")\n",
        "    f.write(\"firebase-admin\\n\")"
      ],
      "metadata": {
        "id": "uJiDB51kkYo3"
      },
      "execution_count": null,
      "outputs": []
    }
  ]
}